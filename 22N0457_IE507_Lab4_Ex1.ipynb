{
  "nbformat": 4,
  "nbformat_minor": 0,
  "metadata": {
    "colab": {
      "name": "22N0457_IE507_Lab4_Ex1.ipynb",
      "provenance": [],
      "collapsed_sections": []
    },
    "kernelspec": {
      "name": "python3",
      "display_name": "Python 3"
    }
  },
  "cells": [
    {
      "cell_type": "markdown",
      "source": [
        "$\\Huge{Exercise \\ \\ 1}$\n",
        "\n",
        "Consider the following optimization problem:\n",
        "$$\n",
        "\\begin{aligned}\n",
        "\\max 0.65 x_{1}+0.75 x_{2}-5.85 x_{3}-8.35 x_{4}-12.38 x_{5}+30 x_{6} & \\\\\n",
        "\\text { s.t. }-0.5 x_{1}-3.8 x_{3}-0.9 x_{4}+0.9 x_{5} & \\leq 24.8 \\\\\n",
        "x_{1}-x_{4}-x_{6} & \\leq 0.8 \\\\\n",
        "-2.9 x_{2}-1.9 x_{3}-0.9 x_{6} & \\leq-71.4 \\\\\n",
        "4.7 x_{4}+8.02 x_{5}+6.15 x_{6} & \\leq 95 \\\\\n",
        "-0.7 x_{1}-1.4 x_{2}+7.9 x_{3}-2.9 x_{4}+0.9 x_{5} & \\leq-47 \\\\\n",
        "x_{i} \\geq 0 \\forall i \\in\\{1,2, \\ldots, 6\\}\n",
        "\\end{aligned}\n",
        "$$"
      ],
      "metadata": {
        "id": "DB8JD-ZLBp9_"
      }
    },
    {
      "cell_type": "code",
      "metadata": {
        "id": "E6VwDP2RpVyd",
        "colab": {
          "base_uri": "https://localhost:8080/"
        },
        "outputId": "e151c8a7-d5ad-4d8e-dc9d-e0cde05e6b4d"
      },
      "source": [
        "!pip install -q pyomo"
      ],
      "execution_count": null,
      "outputs": [
        {
          "output_type": "stream",
          "name": "stdout",
          "text": [
            "\u001b[K     |████████████████████████████████| 9.7 MB 29.3 MB/s \n",
            "\u001b[K     |████████████████████████████████| 49 kB 4.9 MB/s \n",
            "\u001b[?25h"
          ]
        }
      ]
    },
    {
      "cell_type": "code",
      "metadata": {
        "id": "1r_yYUofSTFB"
      },
      "source": [
        "from pyomo.environ import * "
      ],
      "execution_count": null,
      "outputs": []
    },
    {
      "cell_type": "code",
      "metadata": {
        "id": "4xu-ZbGQ61f4"
      },
      "source": [
        "import numpy as np"
      ],
      "execution_count": null,
      "outputs": []
    },
    {
      "cell_type": "code",
      "metadata": {
        "id": "eCfzO5FApbkK"
      },
      "source": [
        "coef = np.loadtxt('lab4_ex1_coef.txt', delimiter=',')"
      ],
      "execution_count": null,
      "outputs": []
    },
    {
      "cell_type": "code",
      "metadata": {
        "id": "DVBe54cOpz_a",
        "colab": {
          "base_uri": "https://localhost:8080/"
        },
        "outputId": "8eb302b4-510f-4093-e3b5-038b51510a57"
      },
      "source": [
        "print(coef.shape)\n",
        "print('Num rows:',coef.shape[0])\n",
        "print('Num cols:',coef.shape[1])\n"
      ],
      "execution_count": null,
      "outputs": [
        {
          "output_type": "stream",
          "name": "stdout",
          "text": [
            "(6, 7)\n",
            "Num rows: 6\n",
            "Num cols: 7\n"
          ]
        }
      ]
    },
    {
      "cell_type": "code",
      "metadata": {
        "id": "TGAjfwkqy0XN",
        "colab": {
          "base_uri": "https://localhost:8080/"
        },
        "outputId": "cc119e9a-6a36-484f-bddf-7a0afa08fa44"
      },
      "source": [
        "print(coef)"
      ],
      "execution_count": null,
      "outputs": [
        {
          "output_type": "stream",
          "name": "stdout",
          "text": [
            "[[  0.65   0.75  -5.85  -8.35 -12.38  30.     0.  ]\n",
            " [ -0.5    0.    -3.8   -0.9    0.9    0.    24.8 ]\n",
            " [  1.     0.     0.    -1.     0.    -1.     0.8 ]\n",
            " [  0.    -2.9   -1.9    0.     0.    -0.9  -71.4 ]\n",
            " [  0.     0.     0.     4.7    8.02   6.15  95.  ]\n",
            " [ -0.7   -1.4    7.9   -2.9    0.9    0.   -47.  ]]\n"
          ]
        }
      ]
    },
    {
      "cell_type": "code",
      "metadata": {
        "id": "HYj3zpsvSih4"
      },
      "source": [
        "# create a model\n",
        "model_lab4 = ConcreteModel()"
      ],
      "execution_count": null,
      "outputs": []
    },
    {
      "cell_type": "code",
      "metadata": {
        "id": "XvRZqCV8d_-e"
      },
      "source": [
        "#creating decision variable\n",
        "N = coef.shape[1]-1"
      ],
      "execution_count": null,
      "outputs": []
    },
    {
      "cell_type": "code",
      "metadata": {
        "id": "_8CnN-2w9EMo"
      },
      "source": [
        "#creating no of constraints\n",
        "M = coef.shape[0]-1 "
      ],
      "execution_count": null,
      "outputs": []
    },
    {
      "cell_type": "code",
      "metadata": {
        "id": "sN7eq44-eCfY",
        "colab": {
          "base_uri": "https://localhost:8080/"
        },
        "outputId": "1e490ca0-366d-414c-ce36-78b3287f4cf6"
      },
      "source": [
        "#taking objective coefficients from .txt file\n",
        "obj_coef = coef[0,:-1]\n",
        "print(obj_coef.shape)\n",
        "print(obj_coef)"
      ],
      "execution_count": null,
      "outputs": [
        {
          "output_type": "stream",
          "name": "stdout",
          "text": [
            "(6,)\n",
            "[  0.65   0.75  -5.85  -8.35 -12.38  30.  ]\n"
          ]
        }
      ]
    },
    {
      "cell_type": "code",
      "metadata": {
        "id": "T1CaFM_DeFly",
        "colab": {
          "base_uri": "https://localhost:8080/"
        },
        "outputId": "41e1f8a1-6bdc-4bc1-b8ed-151ec085740f"
      },
      "source": [
        "# taking constraint coefficient from .txt file\n",
        "constr_coef = coef[1:,:-1]\n",
        "print(constr_coef.shape)\n",
        "print(constr_coef)"
      ],
      "execution_count": null,
      "outputs": [
        {
          "output_type": "stream",
          "name": "stdout",
          "text": [
            "(5, 6)\n",
            "[[-0.5   0.   -3.8  -0.9   0.9   0.  ]\n",
            " [ 1.    0.    0.   -1.    0.   -1.  ]\n",
            " [ 0.   -2.9  -1.9   0.    0.   -0.9 ]\n",
            " [ 0.    0.    0.    4.7   8.02  6.15]\n",
            " [-0.7  -1.4   7.9  -2.9   0.9   0.  ]]\n"
          ]
        }
      ]
    },
    {
      "cell_type": "code",
      "metadata": {
        "id": "oRU630qh-G0n",
        "colab": {
          "base_uri": "https://localhost:8080/"
        },
        "outputId": "1b622426-4d94-44b5-c35f-87c052c78783"
      },
      "source": [
        "# taking rhs of constraint coefficient from .txt file\n",
        "constr_rhs = coef[1:,-1]\n",
        "print(constr_rhs.shape)\n",
        "print(constr_rhs)"
      ],
      "execution_count": null,
      "outputs": [
        {
          "output_type": "stream",
          "name": "stdout",
          "text": [
            "(5,)\n",
            "[ 24.8   0.8 -71.4  95.  -47. ]\n"
          ]
        }
      ]
    },
    {
      "cell_type": "code",
      "metadata": {
        "id": "lzB0FJaNgYgI"
      },
      "source": [
        "#Since the variables have the same upper bound and lower bound, we can simply use scalars to store them\n",
        "lower_bound = 0\n",
        "upper_bound = np.inf"
      ],
      "execution_count": null,
      "outputs": []
    },
    {
      "cell_type": "code",
      "metadata": {
        "id": "JwOmb5XcgqRt",
        "colab": {
          "base_uri": "https://localhost:8080/"
        },
        "outputId": "7dbda8ee-d639-49d3-a86d-4bc1b6ad65ca"
      },
      "source": [
        "# set of column indices: since we have N variables, we can take column indices to be the list [0,1,2,...,N-1]\n",
        "col_indices = np.arange(N)\n",
        "print(col_indices)"
      ],
      "execution_count": null,
      "outputs": [
        {
          "output_type": "stream",
          "name": "stdout",
          "text": [
            "[0 1 2 3 4 5]\n"
          ]
        }
      ]
    },
    {
      "cell_type": "code",
      "metadata": {
        "id": "K8quMKE1g6YQ"
      },
      "source": [
        "#declare the decision variables in the model\n",
        "model_lab4.x = Var(col_indices)"
      ],
      "execution_count": null,
      "outputs": []
    },
    {
      "cell_type": "code",
      "metadata": {
        "id": "i34rVTyJLZZu",
        "colab": {
          "base_uri": "https://localhost:8080/"
        },
        "outputId": "1f5ccf94-2a22-4704-ab06-cb441737a1c9"
      },
      "source": [
        "# set of row indices: since we have M contraints, we can take row indices to be the list [0,1,2,...,M-1]\n",
        "row_indices = np.arange(M)\n",
        "print(row_indices)"
      ],
      "execution_count": null,
      "outputs": [
        {
          "output_type": "stream",
          "name": "stdout",
          "text": [
            "[0 1 2 3 4]\n"
          ]
        }
      ]
    },
    {
      "cell_type": "code",
      "metadata": {
        "id": "ClcpSmWbgwlr"
      },
      "source": [
        "# create a ConstraintList to hold multiple constraints\n",
        "model_lab4.constraints = ConstraintList()"
      ],
      "execution_count": null,
      "outputs": []
    },
    {
      "cell_type": "code",
      "metadata": {
        "id": "0iHcZiefLmd-"
      },
      "source": [
        "for i in row_indices:\n",
        "  model_lab4.constraints.add(summation(constr_coef[i],model_lab4.x) <= constr_rhs[i])"
      ],
      "execution_count": null,
      "outputs": []
    },
    {
      "cell_type": "code",
      "metadata": {
        "id": "V5KOBn_sgrT1"
      },
      "source": [
        "#add the upper bound and lower bounds for the variables\n",
        "for j in col_indices:\n",
        "  model_lab4.x[j].setlb(lower_bound)\n",
        "  model_lab4.x[j].setub(upper_bound)"
      ],
      "execution_count": null,
      "outputs": []
    },
    {
      "cell_type": "code",
      "metadata": {
        "id": "4fOm2vhJhStT"
      },
      "source": [
        "# add the model objective\n",
        "model_lab4.objective = Objective(expr = summation(obj_coef,model_lab4.x), sense=maximize)"
      ],
      "execution_count": null,
      "outputs": []
    },
    {
      "cell_type": "code",
      "metadata": {
        "id": "hLjlmRD8eG_X",
        "colab": {
          "base_uri": "https://localhost:8080/"
        },
        "outputId": "fcaae750-4b5c-4d81-daa3-d31f24704042"
      },
      "source": [
        "model_lab4.pprint()"
      ],
      "execution_count": null,
      "outputs": [
        {
          "output_type": "stream",
          "name": "stdout",
          "text": [
            "2 Set Declarations\n",
            "    constraints_index : Size=1, Index=None, Ordered=Insertion\n",
            "        Key  : Dimen : Domain : Size : Members\n",
            "        None :     1 :    Any :    5 : {1, 2, 3, 4, 5}\n",
            "    x_index : Size=1, Index=None, Ordered=False\n",
            "        Key  : Dimen : Domain : Size : Members\n",
            "        None :     1 :    Any :    6 : {0, 1, 2, 3, 4, 5}\n",
            "\n",
            "1 Var Declarations\n",
            "    x : Size=6, Index=x_index\n",
            "        Key : Lower : Value : Upper : Fixed : Stale : Domain\n",
            "          0 :     0 :  None :  None : False :  True :  Reals\n",
            "          1 :     0 :  None :  None : False :  True :  Reals\n",
            "          2 :     0 :  None :  None : False :  True :  Reals\n",
            "          3 :     0 :  None :  None : False :  True :  Reals\n",
            "          4 :     0 :  None :  None : False :  True :  Reals\n",
            "          5 :     0 :  None :  None : False :  True :  Reals\n",
            "\n",
            "1 Objective Declarations\n",
            "    objective : Size=1, Index=None, Active=True\n",
            "        Key  : Active : Sense    : Expression\n",
            "        None :   True : maximize : 0.65*x[0] + 0.75*x[1] - 5.85*x[2] - 8.35*x[3] - 12.38*x[4] + 30.0*x[5]\n",
            "\n",
            "1 Constraint Declarations\n",
            "    constraints : Size=5, Index=constraints_index, Active=True\n",
            "        Key : Lower : Body                                                  : Upper : Active\n",
            "          1 :  -Inf :            -0.5*x[0] - 3.8*x[2] - 0.9*x[3] + 0.9*x[4] :  24.8 :   True\n",
            "          2 :  -Inf :                                    x[0] - x[3] - x[5] :   0.8 :   True\n",
            "          3 :  -Inf :                       -2.9*x[1] - 1.9*x[2] - 0.9*x[5] : -71.4 :   True\n",
            "          4 :  -Inf :                      4.7*x[3] + 8.02*x[4] + 6.15*x[5] :  95.0 :   True\n",
            "          5 :  -Inf : -0.7*x[0] - 1.4*x[1] + 7.9*x[2] - 2.9*x[3] + 0.9*x[4] : -47.0 :   True\n",
            "\n",
            "5 Declarations: x_index x constraints_index constraints objective\n"
          ]
        }
      ]
    },
    {
      "cell_type": "code",
      "metadata": {
        "id": "rhSG6IRMfclR",
        "colab": {
          "base_uri": "https://localhost:8080/"
        },
        "outputId": "897f0a90-6daa-4c86-ce42-b05e7c6b45e9"
      },
      "source": [
        "!apt-get install -y -qq coinor-cbc"
      ],
      "execution_count": null,
      "outputs": [
        {
          "output_type": "stream",
          "name": "stdout",
          "text": [
            "Selecting previously unselected package coinor-libcoinutils3v5.\n",
            "(Reading database ... 155676 files and directories currently installed.)\n",
            "Preparing to unpack .../0-coinor-libcoinutils3v5_2.10.14+repack1-1_amd64.deb ...\n",
            "Unpacking coinor-libcoinutils3v5 (2.10.14+repack1-1) ...\n",
            "Selecting previously unselected package coinor-libosi1v5.\n",
            "Preparing to unpack .../1-coinor-libosi1v5_0.107.9+repack1-1_amd64.deb ...\n",
            "Unpacking coinor-libosi1v5 (0.107.9+repack1-1) ...\n",
            "Selecting previously unselected package coinor-libclp1.\n",
            "Preparing to unpack .../2-coinor-libclp1_1.16.11+repack1-1_amd64.deb ...\n",
            "Unpacking coinor-libclp1 (1.16.11+repack1-1) ...\n",
            "Selecting previously unselected package coinor-libcgl1.\n",
            "Preparing to unpack .../3-coinor-libcgl1_0.59.10+repack1-1_amd64.deb ...\n",
            "Unpacking coinor-libcgl1 (0.59.10+repack1-1) ...\n",
            "Selecting previously unselected package coinor-libcbc3.\n",
            "Preparing to unpack .../4-coinor-libcbc3_2.9.9+repack1-1_amd64.deb ...\n",
            "Unpacking coinor-libcbc3 (2.9.9+repack1-1) ...\n",
            "Selecting previously unselected package coinor-cbc.\n",
            "Preparing to unpack .../5-coinor-cbc_2.9.9+repack1-1_amd64.deb ...\n",
            "Unpacking coinor-cbc (2.9.9+repack1-1) ...\n",
            "Setting up coinor-libcoinutils3v5 (2.10.14+repack1-1) ...\n",
            "Setting up coinor-libosi1v5 (0.107.9+repack1-1) ...\n",
            "Setting up coinor-libclp1 (1.16.11+repack1-1) ...\n",
            "Setting up coinor-libcgl1 (0.59.10+repack1-1) ...\n",
            "Setting up coinor-libcbc3 (2.9.9+repack1-1) ...\n",
            "Setting up coinor-cbc (2.9.9+repack1-1) ...\n",
            "Processing triggers for man-db (2.8.3-2ubuntu0.1) ...\n",
            "Processing triggers for libc-bin (2.27-3ubuntu1.5) ...\n"
          ]
        }
      ]
    },
    {
      "cell_type": "code",
      "metadata": {
        "id": "Sq3CpPcCeIBC"
      },
      "source": [
        "opt_cbc = SolverFactory('cbc')"
      ],
      "execution_count": null,
      "outputs": []
    },
    {
      "cell_type": "code",
      "metadata": {
        "id": "ANOu9qtsMgJQ",
        "colab": {
          "base_uri": "https://localhost:8080/"
        },
        "outputId": "5152f31f-941e-47b3-8ede-cd2c44e4e91a"
      },
      "source": [
        "result = opt_cbc.solve(model_lab4)\n",
        "print('Solver status:', result.solver.status)\n",
        "print('Solver termination condition:',result.solver.termination_condition)"
      ],
      "execution_count": null,
      "outputs": [
        {
          "output_type": "stream",
          "name": "stderr",
          "text": [
            "WARNING:pyomo.core:Loading a SolverResults object with a warning status into model.name=\"unknown\";\n",
            "  - termination condition: unbounded\n",
            "  - message from solver: <undefined>\n"
          ]
        },
        {
          "output_type": "stream",
          "name": "stdout",
          "text": [
            "Solver status: warning\n",
            "Solver termination condition: unbounded\n"
          ]
        }
      ]
    },
    {
      "cell_type": "markdown",
      "source": [
        "$ \\Huge{solution \\ \\ \\ of \\ \\ \\ 1.7}$\n",
        "\n",
        "Solver status is warning\n",
        "and Solver termination condition is  unbounded \n",
        "\n",
        "we get unbounded solution because of some of the variable has no such constraints that bound variable or objective sense is wrong\n",
        " \n",
        " because of that it take value as $\\infty \\ \\  $ "
      ],
      "metadata": {
        "id": "5XWk9igYQ5Ff"
      }
    },
    {
      "cell_type": "markdown",
      "source": [
        "$\\Huge{solution \\ \\ of \\ \\ 1.8}$\n",
        "\n",
        "first i changed the objective sense but it does not  gives optimal solution \n",
        "\n",
        "now i change variable upper bound and i got objective function is unbounded because of $ x_2 $ takes value as $\\infty$ \n",
        "\n",
        "by changing many upper bound of $x_2$ i got if $ x_2 <20.1032727 $ solution is infeasible if $ x_2 >20.1032727$ then we got optimal solution \n",
        "\n",
        "since minimum upper bound of $x_2$ is 20.1032727 so i choose it for upper bound"
      ],
      "metadata": {
        "id": "O7bNPtk6UEID"
      }
    },
    {
      "cell_type": "code",
      "metadata": {
        "id": "UW3C5a3QihA3"
      },
      "source": [
        "model_lab4.x[1].setub(20.1032727)"
      ],
      "execution_count": null,
      "outputs": []
    },
    {
      "cell_type": "code",
      "source": [
        "result = opt_cbc.solve(model_lab4)\n",
        "print('Solver status:', result.solver.status)\n",
        "print('Solver termination condition:',result.solver.termination_condition)"
      ],
      "metadata": {
        "colab": {
          "base_uri": "https://localhost:8080/"
        },
        "id": "7O-_Xd5hLbxF",
        "outputId": "5db73c2e-320a-4cea-8d94-f6ccc7703458"
      },
      "execution_count": null,
      "outputs": [
        {
          "output_type": "stream",
          "name": "stdout",
          "text": [
            "Solver status: ok\n",
            "Solver termination condition: optimal\n"
          ]
        }
      ]
    },
    {
      "cell_type": "code",
      "metadata": {
        "id": "WQZHDR3afKj5",
        "colab": {
          "base_uri": "https://localhost:8080/"
        },
        "outputId": "e6857624-872b-41be-b3c1-ae2bc2d09ddb"
      },
      "source": [
        "# display solution\n",
        "print('\\nObjective = ', model_lab4.objective())\n",
        "\n",
        "print('\\nDecision Variables')\n",
        "for i in col_indices:\n",
        "  print('x[',i,'] = ', model_lab4.x[i].value)\n",
        "\n",
        "print('\\nConstraints')\n",
        "model_lab4.constraints.display()"
      ],
      "execution_count": null,
      "outputs": [
        {
          "output_type": "stream",
          "name": "stdout",
          "text": [
            "\n",
            "Objective =  -180.37644654644697\n",
            "\n",
            "Decision Variables\n",
            "x[ 0 ] =  21.012765\n",
            "x[ 1 ] =  20.103273\n",
            "x[ 2 ] =  6.8950029\n",
            "x[ 3 ] =  20.212761\n",
            "x[ 4 ] =  0.0\n",
            "x[ 5 ] =  4.0922851e-06\n",
            "\n",
            "Constraints\n",
            "constraints : Size=5\n",
            "    Key : Lower : Body               : Upper\n",
            "      1 :  None :       -54.89887842 :  24.8\n",
            "      2 :  None : 0.7999999077149013 :   0.8\n",
            "      3 :  None :  -71.4000008930566 : -71.4\n",
            "      4 :  None :  95.00000186755337 :  95.0\n",
            "      5 :  None :       -47.00000169 : -47.0\n"
          ]
        }
      ]
    },
    {
      "cell_type": "markdown",
      "source": [
        "$ \\Huge{solution  \\ \\ of \\ \\  1.9} $\n",
        "\n",
        "first i changed the objective sense but it does not  gives optimal solution \n",
        "\n",
        "now i change variable upper bound and i got objective function is unbounded because of $ x_2 $ takes value as $\\infty$ \n",
        "\n",
        "by changing many upper bound of $x_2$ i got if $ x_2 <20.1032727 $ solution is infeasible if $ x_2 >20.1032727$ then we got optimal solution \n",
        "\n",
        "since minimum upper bound of $x_2$ is 20.1032727 so i choose it for upper bound\n",
        "\n",
        "$ \\huge{optimal \\ \\ objective \\ \\ function \\ \\ value =-180.37644654644697}$\n",
        "\n",
        "\n",
        "$\\huge{value \\ \\ of \\ \\ variable}$\n",
        "\n",
        "$x_1$ =  21.012765\n",
        "\n",
        "$x_2$ =  20.103273\n",
        "\n",
        "\n",
        "$x_3$ =  6.8950029\n",
        "\n",
        "$x_4$ =  20.212761\n",
        "\n",
        "$x_5$ =  0.0\n",
        "\n",
        "$x_6$ =  4.0922851e-06\n",
        "\n",
        "constraint 1 is inactive \n",
        "\n",
        "constraint 2,3,4,5 is active"
      ],
      "metadata": {
        "id": "5tMuYhC4Xbu4"
      }
    }
  ]
}