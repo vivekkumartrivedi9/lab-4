{
  "nbformat": 4,
  "nbformat_minor": 0,
  "metadata": {
    "colab": {
      "name": "22N0457_IE507_Lab4_Ex2.ipynb",
      "provenance": [],
      "collapsed_sections": []
    },
    "kernelspec": {
      "name": "python3",
      "display_name": "Python 3"
    }
  },
  "cells": [
    {
      "cell_type": "markdown",
      "source": [
        "$ \\Huge{solution \\ \\ of \\ \\ 2.4}$\n",
        "\n",
        "let $x_1,x_2,x_3,x_4,x_5 $ be the number of drone of model SHREY,DHARAN,SATVA,ADHYA,PRAVAT respectively\n",
        "\n",
        "we have to maximize possible carrying capacity so our objective function is\n",
        "\n",
        "\n",
        "max $ 11x_1+13x_2 +9x_3+ 15x_4+12x_5$\n",
        "\n",
        "subject to constraint\n",
        "\n",
        " $ 6.5x_1+8x_2 +10.5x_3+ 11.75x_4+14.5x_5 \\le 78$\n",
        "\n",
        "\n",
        "and    $ 5.75x_1+4.5x_2 +3.75x_3+ 4.85x_4+3.45x_5 \\le 84$\n",
        "\n",
        "since $x_1,x_2,x_3,x_4,x_5 $ is number of drone so, it can't be float it must be Non Negative Integer"
      ],
      "metadata": {
        "id": "H8ONfRcobO7M"
      }
    },
    {
      "cell_type": "code",
      "metadata": {
        "id": "E6VwDP2RpVyd"
      },
      "source": [
        "!pip install -q pyomo"
      ],
      "execution_count": null,
      "outputs": []
    },
    {
      "cell_type": "code",
      "metadata": {
        "id": "1r_yYUofSTFB"
      },
      "source": [
        "from pyomo.environ import * "
      ],
      "execution_count": null,
      "outputs": []
    },
    {
      "cell_type": "code",
      "metadata": {
        "id": "4xu-ZbGQ61f4"
      },
      "source": [
        "import numpy as np"
      ],
      "execution_count": null,
      "outputs": []
    },
    {
      "cell_type": "code",
      "metadata": {
        "id": "g3bUiPzkmSQP"
      },
      "source": [
        "import pandas as pd"
      ],
      "execution_count": null,
      "outputs": []
    },
    {
      "cell_type": "code",
      "metadata": {
        "id": "Z26rYgB4m25b"
      },
      "source": [
        "data_csvfile = pd.read_csv('lab4_ex3.csv')"
      ],
      "execution_count": null,
      "outputs": []
    },
    {
      "cell_type": "code",
      "metadata": {
        "id": "Kte6UWEjnPS7",
        "colab": {
          "base_uri": "https://localhost:8080/"
        },
        "outputId": "e279694e-34fb-4e0c-d186-25d3bbf74de1"
      },
      "source": [
        "data_csvfile.columns"
      ],
      "execution_count": null,
      "outputs": [
        {
          "output_type": "execute_result",
          "data": {
            "text/plain": [
              "Index(['Drone Model', 'Carrying Capacity (kgs)', 'Cost (in Crores of rupees)',\n",
              "       'Parking space (sq. m.)'],\n",
              "      dtype='object')"
            ]
          },
          "metadata": {},
          "execution_count": 379
        }
      ]
    },
    {
      "cell_type": "code",
      "metadata": {
        "id": "eJ2SntTsnF2r",
        "colab": {
          "base_uri": "https://localhost:8080/"
        },
        "outputId": "3c8efc2c-6a1e-4606-822a-06ad0189d922"
      },
      "source": [
        "data_csvfile['Drone Model']"
      ],
      "execution_count": null,
      "outputs": [
        {
          "output_type": "execute_result",
          "data": {
            "text/plain": [
              "0     SHREY\n",
              "1    DHARAN\n",
              "2     SATVA\n",
              "3     ADHYA\n",
              "4    PRAVAT\n",
              "Name: Drone Model, dtype: object"
            ]
          },
          "metadata": {},
          "execution_count": 380
        }
      ]
    },
    {
      "cell_type": "code",
      "metadata": {
        "id": "2aRsk9xQnK5T",
        "colab": {
          "base_uri": "https://localhost:8080/"
        },
        "outputId": "6328fc10-4b8d-48d6-e9c7-cb7d54a2ec70"
      },
      "source": [
        "data_csvfile['Carrying Capacity (kgs)']"
      ],
      "execution_count": null,
      "outputs": [
        {
          "output_type": "execute_result",
          "data": {
            "text/plain": [
              "0    11\n",
              "1    13\n",
              "2     9\n",
              "3    15\n",
              "4    12\n",
              "Name: Carrying Capacity (kgs), dtype: int64"
            ]
          },
          "metadata": {},
          "execution_count": 381
        }
      ]
    },
    {
      "cell_type": "code",
      "metadata": {
        "id": "EYInwh3mnxUK",
        "colab": {
          "base_uri": "https://localhost:8080/"
        },
        "outputId": "1ceaa147-a34b-4913-e52b-5585fa33f992"
      },
      "source": [
        "data_csvfile['Cost (in Crores of rupees)']"
      ],
      "execution_count": null,
      "outputs": [
        {
          "output_type": "execute_result",
          "data": {
            "text/plain": [
              "0     6.50\n",
              "1     8.00\n",
              "2    10.50\n",
              "3    11.75\n",
              "4    14.50\n",
              "Name: Cost (in Crores of rupees), dtype: float64"
            ]
          },
          "metadata": {},
          "execution_count": 382
        }
      ]
    },
    {
      "cell_type": "code",
      "metadata": {
        "id": "vUSogRNnn4Iq",
        "colab": {
          "base_uri": "https://localhost:8080/"
        },
        "outputId": "1f19fd06-d7ae-45b9-adeb-76a74ca7dc29"
      },
      "source": [
        "data_csvfile['Parking space (sq. m.)']"
      ],
      "execution_count": null,
      "outputs": [
        {
          "output_type": "execute_result",
          "data": {
            "text/plain": [
              "0    5.75\n",
              "1    4.50\n",
              "2    3.75\n",
              "3    4.85\n",
              "4    3.45\n",
              "Name: Parking space (sq. m.), dtype: float64"
            ]
          },
          "metadata": {},
          "execution_count": 383
        }
      ]
    },
    {
      "cell_type": "code",
      "metadata": {
        "id": "HYj3zpsvSih4"
      },
      "source": [
        "# create a model\n",
        "model_lab4_ex2 = ConcreteModel()"
      ],
      "execution_count": null,
      "outputs": []
    },
    {
      "cell_type": "code",
      "metadata": {
        "id": "XvRZqCV8d_-e"
      },
      "source": [
        "N = len(data_csvfile.index) \n",
        "#we declare a Python variable N denoting the number of decision variables  "
      ],
      "execution_count": null,
      "outputs": []
    },
    {
      "cell_type": "code",
      "metadata": {
        "id": "_8CnN-2w9EMo"
      },
      "source": [
        "M =2 #we declare a Python variable M denoting the number of constraints"
      ],
      "execution_count": null,
      "outputs": []
    },
    {
      "cell_type": "code",
      "metadata": {
        "id": "iUToRXB7s8-R"
      },
      "source": [
        "col_indices = range(N)"
      ],
      "execution_count": null,
      "outputs": []
    },
    {
      "cell_type": "code",
      "metadata": {
        "id": "GWlyoZdzpoNT"
      },
      "source": [
        "#declare the decision variables in the model\n",
        "model_lab4_ex2.x = Var(col_indices)"
      ],
      "execution_count": null,
      "outputs": []
    },
    {
      "cell_type": "code",
      "source": [
        "model_lab4_ex2.x.domain=NonNegativeIntegers"
      ],
      "metadata": {
        "id": "5yb7a7rdXxOo"
      },
      "execution_count": null,
      "outputs": []
    },
    {
      "cell_type": "code",
      "metadata": {
        "id": "6AUcuaeEqDUm"
      },
      "source": [
        "model_lab4_ex2.objective = Objective(expr=summation(data_csvfile['Carrying Capacity (kgs)'], model_lab4_ex2.x),sense=maximize)"
      ],
      "execution_count": null,
      "outputs": []
    },
    {
      "cell_type": "code",
      "metadata": {
        "id": "Mcu6irk6tQHz"
      },
      "source": [
        "model_lab4_ex2.constraints = ConstraintList()"
      ],
      "execution_count": null,
      "outputs": []
    },
    {
      "cell_type": "code",
      "metadata": {
        "id": "361XIzn3t_m2",
        "colab": {
          "base_uri": "https://localhost:8080/"
        },
        "outputId": "ba601c34-19c6-4512-94db-d47dc1603ef3"
      },
      "source": [
        "#adding coefficient from csv file\n",
        "model_lab4_ex2.constraints.add(summation(data_csvfile['Cost (in Crores of rupees)'], model_lab4_ex2.x) <= 78)\n"
      ],
      "execution_count": null,
      "outputs": [
        {
          "output_type": "execute_result",
          "data": {
            "text/plain": [
              "<pyomo.core.base.constraint._GeneralConstraintData at 0x7f5e36b6f130>"
            ]
          },
          "metadata": {},
          "execution_count": 392
        }
      ]
    },
    {
      "cell_type": "code",
      "metadata": {
        "id": "JQShytXKuqAn",
        "colab": {
          "base_uri": "https://localhost:8080/"
        },
        "outputId": "0317adb6-5c36-4c1a-ae20-326587970181"
      },
      "source": [
        "\n",
        "model_lab4_ex2.constraints.add(summation(data_csvfile['Parking space (sq. m.)'], model_lab4_ex2.x) <= 84 )\n"
      ],
      "execution_count": null,
      "outputs": [
        {
          "output_type": "execute_result",
          "data": {
            "text/plain": [
              "<pyomo.core.base.constraint._GeneralConstraintData at 0x7f5e36bd5910>"
            ]
          },
          "metadata": {},
          "execution_count": 393
        }
      ]
    },
    {
      "cell_type": "code",
      "metadata": {
        "id": "lzB0FJaNgYgI"
      },
      "source": [
        "#Since the variables have the same upper bound and lower bound, we can simply use scalars to store them\n",
        "lower_bound = 0\n",
        "upper_bound = np.inf"
      ],
      "execution_count": null,
      "outputs": []
    },
    {
      "cell_type": "code",
      "metadata": {
        "id": "V5KOBn_sgrT1"
      },
      "source": [
        "#add the upper bound and lower bounds for the variables\n",
        "for j in col_indices:\n",
        "  model_lab4_ex2.x[j].setlb(lower_bound)\n",
        "  model_lab4_ex2.x[j].setub(upper_bound)"
      ],
      "execution_count": null,
      "outputs": []
    },
    {
      "cell_type": "code",
      "metadata": {
        "id": "hLjlmRD8eG_X",
        "colab": {
          "base_uri": "https://localhost:8080/"
        },
        "outputId": "4ec9582a-1a0c-47b7-cc5e-291a2d7c0e4a"
      },
      "source": [
        "model_lab4_ex2.pprint()"
      ],
      "execution_count": null,
      "outputs": [
        {
          "output_type": "stream",
          "name": "stdout",
          "text": [
            "2 Set Declarations\n",
            "    constraints_index : Size=1, Index=None, Ordered=Insertion\n",
            "        Key  : Dimen : Domain : Size : Members\n",
            "        None :     1 :    Any :    2 : {1, 2}\n",
            "    x_index : Size=1, Index=None, Ordered=Insertion\n",
            "        Key  : Dimen : Domain : Size : Members\n",
            "        None :     1 :    Any :    5 : {0, 1, 2, 3, 4}\n",
            "\n",
            "1 Var Declarations\n",
            "    x : Size=5, Index=x_index\n",
            "        Key : Lower : Value : Upper : Fixed : Stale : Domain\n",
            "          0 :     0 :  None :  None : False :  True : NonNegativeIntegers\n",
            "          1 :     0 :  None :  None : False :  True : NonNegativeIntegers\n",
            "          2 :     0 :  None :  None : False :  True : NonNegativeIntegers\n",
            "          3 :     0 :  None :  None : False :  True : NonNegativeIntegers\n",
            "          4 :     0 :  None :  None : False :  True : NonNegativeIntegers\n",
            "\n",
            "1 Objective Declarations\n",
            "    objective : Size=1, Index=None, Active=True\n",
            "        Key  : Active : Sense    : Expression\n",
            "        None :   True : maximize : 11*x[0] + 13*x[1] + 9*x[2] + 15*x[3] + 12*x[4]\n",
            "\n",
            "1 Constraint Declarations\n",
            "    constraints : Size=2, Index=constraints_index, Active=True\n",
            "        Key : Lower : Body                                                     : Upper : Active\n",
            "          1 :  -Inf : 6.5*x[0] + 8.0*x[1] + 10.5*x[2] + 11.75*x[3] + 14.5*x[4] :  78.0 :   True\n",
            "          2 :  -Inf : 5.75*x[0] + 4.5*x[1] + 3.75*x[2] + 4.85*x[3] + 3.45*x[4] :  84.0 :   True\n",
            "\n",
            "5 Declarations: x_index x objective constraints_index constraints\n"
          ]
        }
      ]
    },
    {
      "cell_type": "code",
      "metadata": {
        "id": "rhSG6IRMfclR"
      },
      "source": [
        "!apt-get install -y -qq coinor-cbc"
      ],
      "execution_count": null,
      "outputs": []
    },
    {
      "cell_type": "code",
      "metadata": {
        "id": "Sq3CpPcCeIBC"
      },
      "source": [
        "opt_cbc = SolverFactory('cbc')"
      ],
      "execution_count": null,
      "outputs": []
    },
    {
      "cell_type": "code",
      "metadata": {
        "id": "ANOu9qtsMgJQ",
        "colab": {
          "base_uri": "https://localhost:8080/"
        },
        "outputId": "9ca5c400-d794-471b-c391-183a23c5311c"
      },
      "source": [
        "result = opt_cbc.solve(model_lab4_ex2)\n",
        "print('Solver status:', result.solver.status)\n",
        "print('Solver termination condition:',result.solver.termination_condition)"
      ],
      "execution_count": null,
      "outputs": [
        {
          "output_type": "stream",
          "name": "stdout",
          "text": [
            "Solver status: ok\n",
            "Solver termination condition: optimal\n"
          ]
        }
      ]
    },
    {
      "cell_type": "code",
      "metadata": {
        "id": "WQZHDR3afKj5",
        "colab": {
          "base_uri": "https://localhost:8080/"
        },
        "outputId": "c5fd13f6-a643-49f4-e777-01aaa13dfd89"
      },
      "source": [
        "# display solution\n",
        "print('\\nObjective = ', model_lab4_ex2.objective())\n",
        "\n",
        "print('\\nDecision Variables')\n",
        "for i in col_indices:\n",
        "  print('number  of drone model',data_csvfile['Drone Model'][i], model_lab4_ex2.x[i].value)\n",
        "\n",
        "print('\\nConstraints')\n",
        "model_lab4_ex2.constraints.display()"
      ],
      "execution_count": null,
      "outputs": [
        {
          "output_type": "stream",
          "name": "stdout",
          "text": [
            "\n",
            "Objective =  132.0\n",
            "\n",
            "Decision Variables\n",
            "number  of drone model SHREY 12.0\n",
            "number  of drone model DHARAN 0.0\n",
            "number  of drone model SATVA 0.0\n",
            "number  of drone model ADHYA 0.0\n",
            "number  of drone model PRAVAT 0.0\n",
            "\n",
            "Constraints\n",
            "constraints : Size=2\n",
            "    Key : Lower : Body : Upper\n",
            "      1 :  None : 78.0 :  78.0\n",
            "      2 :  None : 69.0 :  84.0\n"
          ]
        }
      ]
    },
    {
      "cell_type": "markdown",
      "source": [
        "$ \\huge{solution  \\ \\ of \\ \\ 2.6}$\n",
        "\n",
        "\n",
        "optimal objective function value= 132\n",
        "\n",
        "number  of drone model SHREY = 12.0\n",
        "\n",
        "number  of drone model DHARAN = 0.0\n",
        "\n",
        "number  of drone model SATVA = 0.0\n",
        "\n",
        "number  of drone model ADHYA  = 0.0\n",
        "\n",
        "number  of drone model PRAVAT  = 0.0"
      ],
      "metadata": {
        "id": "f0C0RNlhgn2L"
      }
    },
    {
      "cell_type": "code",
      "metadata": {
        "id": "MeSMEQsMyhFt"
      },
      "source": [
        "model_lab4_ex2.x.domain=Reals"
      ],
      "execution_count": null,
      "outputs": []
    },
    {
      "cell_type": "code",
      "source": [
        "result = opt_cbc.solve(model_lab4_ex2)\n",
        "print('Solver status:', result.solver.status)\n",
        "print('Solver termination condition:',result.solver.termination_condition)"
      ],
      "metadata": {
        "colab": {
          "base_uri": "https://localhost:8080/"
        },
        "id": "ExblRjrKawJX",
        "outputId": "01ac5414-61fd-46e8-fa1d-79c6da429d5e"
      },
      "execution_count": null,
      "outputs": [
        {
          "output_type": "stream",
          "name": "stdout",
          "text": [
            "Solver status: ok\n",
            "Solver termination condition: optimal\n"
          ]
        }
      ]
    },
    {
      "cell_type": "code",
      "metadata": {
        "id": "kKtz8loMyfMF",
        "colab": {
          "base_uri": "https://localhost:8080/"
        },
        "outputId": "40ccfa55-8812-47c3-c1fb-c9beb7eb8662"
      },
      "source": [
        "# display solution\n",
        "print('\\nObjective = ', model_lab4_ex2.objective())\n",
        "\n",
        "print('\\nDecision Variables')\n",
        "for i in col_indices:\n",
        "  print('number of drone model ',data_csvfile['Drone Model'][i], model_lab4_ex2.x[i].value)\n",
        "\n",
        "print('\\nConstraints')\n",
        "model_lab4_ex2.constraints.display()"
      ],
      "execution_count": null,
      "outputs": [
        {
          "output_type": "stream",
          "name": "stdout",
          "text": [
            "\n",
            "Objective =  132.0\n",
            "\n",
            "Decision Variables\n",
            "number of drone model  SHREY 12.0\n",
            "number of drone model  DHARAN 0.0\n",
            "number of drone model  SATVA 0.0\n",
            "number of drone model  ADHYA 0.0\n",
            "number of drone model  PRAVAT 0.0\n",
            "\n",
            "Constraints\n",
            "constraints : Size=2\n",
            "    Key : Lower : Body : Upper\n",
            "      1 :  None : 78.0 :  78.0\n",
            "      2 :  None : 69.0 :  84.0\n"
          ]
        }
      ]
    },
    {
      "cell_type": "markdown",
      "source": [
        "$ \\huge{solution  \\ \\ of \\ \\  2.7}$\n",
        "\n",
        "\n",
        "optimal objective function value= 132\n",
        "\n",
        "number  of drone model SHREY = 12.0\n",
        "\n",
        "number  of drone model DHARAN = 0.0\n",
        "\n",
        "number  of drone model SATVA = 0.0\n",
        "\n",
        "number  of drone model ADHYA  = 0.0\n",
        "\n",
        "number  of drone model PRAVAT  = 0.0\n",
        "\n",
        "here solution is same for both LP and MILP but it is not always happend"
      ],
      "metadata": {
        "id": "ck6gzGC3zYgA"
      }
    },
    {
      "cell_type": "markdown",
      "source": [
        "$ \\huge{solution \\ \\  of \\ \\ 2.8}$ \n",
        "\n",
        "yes here solution is same for both LP and MILP since it satisfy the theorem\n",
        "\n",
        "If the optimal solution of the LP relaxation is feasible for the original MILP, then it is\n",
        "optimal also for the original problem\n",
        "\n"
      ],
      "metadata": {
        "id": "LIBa8i5_0Pmf"
      }
    },
    {
      "cell_type": "markdown",
      "source": [
        "$\\huge{2.9}$"
      ],
      "metadata": {
        "id": "HlalRghHSqif"
      }
    },
    {
      "cell_type": "code",
      "source": [
        "model_lab4_ex2.constraints.add(summation(data_csvfile['Cost (in Crores of rupees)'],model_lab4_ex2.x) <= 76)"
      ],
      "metadata": {
        "colab": {
          "base_uri": "https://localhost:8080/"
        },
        "id": "hal5jF8QcBAq",
        "outputId": "b8505f7d-403e-4298-b2c0-282ccc53a26c"
      },
      "execution_count": null,
      "outputs": [
        {
          "output_type": "execute_result",
          "data": {
            "text/plain": [
              "<pyomo.core.base.constraint._GeneralConstraintData at 0x7f5e37443e50>"
            ]
          },
          "metadata": {},
          "execution_count": 404
        }
      ]
    },
    {
      "cell_type": "code",
      "source": [
        "model_lab4_ex2.constraints.add(summation(data_csvfile['Parking space (sq. m.)'],model_lab4_ex2.x) <= 87)"
      ],
      "metadata": {
        "colab": {
          "base_uri": "https://localhost:8080/"
        },
        "id": "uE-a594jc5VF",
        "outputId": "f6cac5d4-4c49-4089-aaed-6b09efa5c59c"
      },
      "execution_count": null,
      "outputs": [
        {
          "output_type": "execute_result",
          "data": {
            "text/plain": [
              "<pyomo.core.base.constraint._GeneralConstraintData at 0x7f5e374b0830>"
            ]
          },
          "metadata": {},
          "execution_count": 405
        }
      ]
    },
    {
      "cell_type": "code",
      "source": [
        "model_lab4_ex2.x.domain=Reals"
      ],
      "metadata": {
        "id": "C9O6aZfzfGEz"
      },
      "execution_count": null,
      "outputs": []
    },
    {
      "cell_type": "code",
      "source": [
        "model_lab4_ex2.constraints[1].deactivate()"
      ],
      "metadata": {
        "id": "UgAGn3nQdccx"
      },
      "execution_count": null,
      "outputs": []
    },
    {
      "cell_type": "code",
      "source": [
        "model_lab4_ex2.constraints[2].deactivate()"
      ],
      "metadata": {
        "id": "2iv-0FR0dnyb"
      },
      "execution_count": null,
      "outputs": []
    },
    {
      "cell_type": "code",
      "source": [
        "model_lab4_ex2.pprint()"
      ],
      "metadata": {
        "colab": {
          "base_uri": "https://localhost:8080/"
        },
        "id": "HgYGPhVqdrT8",
        "outputId": "8276b5eb-a33d-4169-f632-5c7553ec319e"
      },
      "execution_count": null,
      "outputs": [
        {
          "output_type": "stream",
          "name": "stdout",
          "text": [
            "2 Set Declarations\n",
            "    constraints_index : Size=1, Index=None, Ordered=Insertion\n",
            "        Key  : Dimen : Domain : Size : Members\n",
            "        None :     1 :    Any :    4 : {1, 2, 3, 4}\n",
            "    x_index : Size=1, Index=None, Ordered=Insertion\n",
            "        Key  : Dimen : Domain : Size : Members\n",
            "        None :     1 :    Any :    5 : {0, 1, 2, 3, 4}\n",
            "\n",
            "1 Var Declarations\n",
            "    x : Size=5, Index=x_index\n",
            "        Key : Lower : Value : Upper : Fixed : Stale : Domain\n",
            "          0 :     0 :  12.0 :  None : False : False :  Reals\n",
            "          1 :     0 :   0.0 :  None : False : False :  Reals\n",
            "          2 :     0 :   0.0 :  None : False : False :  Reals\n",
            "          3 :     0 :   0.0 :  None : False : False :  Reals\n",
            "          4 :     0 :   0.0 :  None : False : False :  Reals\n",
            "\n",
            "1 Objective Declarations\n",
            "    objective : Size=1, Index=None, Active=True\n",
            "        Key  : Active : Sense    : Expression\n",
            "        None :   True : maximize : 11*x[0] + 13*x[1] + 9*x[2] + 15*x[3] + 12*x[4]\n",
            "\n",
            "1 Constraint Declarations\n",
            "    constraints : Size=4, Index=constraints_index, Active=True\n",
            "        Key : Lower : Body                                                     : Upper : Active\n",
            "          1 :  -Inf : 6.5*x[0] + 8.0*x[1] + 10.5*x[2] + 11.75*x[3] + 14.5*x[4] :  78.0 :  False\n",
            "          2 :  -Inf : 5.75*x[0] + 4.5*x[1] + 3.75*x[2] + 4.85*x[3] + 3.45*x[4] :  84.0 :  False\n",
            "          3 :  -Inf : 6.5*x[0] + 8.0*x[1] + 10.5*x[2] + 11.75*x[3] + 14.5*x[4] :  76.0 :   True\n",
            "          4 :  -Inf : 5.75*x[0] + 4.5*x[1] + 3.75*x[2] + 4.85*x[3] + 3.45*x[4] :  87.0 :   True\n",
            "\n",
            "5 Declarations: x_index x objective constraints_index constraints\n"
          ]
        }
      ]
    },
    {
      "cell_type": "code",
      "source": [
        "result = opt_cbc.solve(model_lab4_ex2)\n",
        "print('Solver status:', result.solver.status)\n",
        "print('Solver termination condition:',result.solver.termination_condition)"
      ],
      "metadata": {
        "colab": {
          "base_uri": "https://localhost:8080/"
        },
        "id": "lRNEHdR_ftcs",
        "outputId": "e98a9c2a-b4ba-42fb-dec0-e44dbd595fda"
      },
      "execution_count": null,
      "outputs": [
        {
          "output_type": "stream",
          "name": "stdout",
          "text": [
            "Solver status: ok\n",
            "Solver termination condition: optimal\n"
          ]
        }
      ]
    },
    {
      "cell_type": "code",
      "source": [
        "# display solution\n",
        "print('\\nObjective = ', model_lab4_ex2.objective())\n",
        "\n",
        "print('\\nDecision Variables')\n",
        "for i in col_indices:\n",
        "  print('number  of drone model ',data_csvfile['Drone Model'][i], model_lab4_ex2.x[i].value)\n",
        "\n",
        "print('\\nConstraints')\n",
        "model_lab4_ex2.constraints.display()"
      ],
      "metadata": {
        "colab": {
          "base_uri": "https://localhost:8080/"
        },
        "id": "68llIDdCf8Fa",
        "outputId": "756b2ebd-3ebc-4863-8990-b2d81c6e35ae"
      },
      "execution_count": null,
      "outputs": [
        {
          "output_type": "stream",
          "name": "stdout",
          "text": [
            "\n",
            "Objective =  128.615388\n",
            "\n",
            "Decision Variables\n",
            "number  of drone model  SHREY 11.692308\n",
            "number  of drone model  DHARAN 0.0\n",
            "number  of drone model  SATVA 0.0\n",
            "number  of drone model  ADHYA 0.0\n",
            "number  of drone model  PRAVAT 0.0\n",
            "\n",
            "Constraints\n",
            "constraints : Size=4\n",
            "    Key : Lower : Body              : Upper\n",
            "      3 :  None : 76.00000200000001 :  76.0\n",
            "      4 :  None :         67.230771 :  87.0\n"
          ]
        }
      ]
    },
    {
      "cell_type": "code",
      "source": [
        "model_lab4_ex2.x.domain=NonNegativeIntegers"
      ],
      "metadata": {
        "id": "SDcGrXiJgAUg"
      },
      "execution_count": null,
      "outputs": []
    },
    {
      "cell_type": "code",
      "source": [
        "model_lab4_ex2.pprint()"
      ],
      "metadata": {
        "colab": {
          "base_uri": "https://localhost:8080/"
        },
        "id": "vpf7y_1hgLCf",
        "outputId": "e0ee054b-309c-4106-e24a-f6ddc1aec254"
      },
      "execution_count": null,
      "outputs": [
        {
          "output_type": "stream",
          "name": "stdout",
          "text": [
            "2 Set Declarations\n",
            "    constraints_index : Size=1, Index=None, Ordered=Insertion\n",
            "        Key  : Dimen : Domain : Size : Members\n",
            "        None :     1 :    Any :    4 : {1, 2, 3, 4}\n",
            "    x_index : Size=1, Index=None, Ordered=Insertion\n",
            "        Key  : Dimen : Domain : Size : Members\n",
            "        None :     1 :    Any :    5 : {0, 1, 2, 3, 4}\n",
            "\n",
            "1 Var Declarations\n",
            "    x : Size=5, Index=x_index\n",
            "        Key : Lower : Value     : Upper : Fixed : Stale : Domain\n",
            "          0 :     0 : 11.692308 :  None : False : False : NonNegativeIntegers\n",
            "          1 :     0 :       0.0 :  None : False : False : NonNegativeIntegers\n",
            "          2 :     0 :       0.0 :  None : False : False : NonNegativeIntegers\n",
            "          3 :     0 :       0.0 :  None : False : False : NonNegativeIntegers\n",
            "          4 :     0 :       0.0 :  None : False : False : NonNegativeIntegers\n",
            "\n",
            "1 Objective Declarations\n",
            "    objective : Size=1, Index=None, Active=True\n",
            "        Key  : Active : Sense    : Expression\n",
            "        None :   True : maximize : 11*x[0] + 13*x[1] + 9*x[2] + 15*x[3] + 12*x[4]\n",
            "\n",
            "1 Constraint Declarations\n",
            "    constraints : Size=4, Index=constraints_index, Active=True\n",
            "        Key : Lower : Body                                                     : Upper : Active\n",
            "          1 :  -Inf : 6.5*x[0] + 8.0*x[1] + 10.5*x[2] + 11.75*x[3] + 14.5*x[4] :  78.0 :  False\n",
            "          2 :  -Inf : 5.75*x[0] + 4.5*x[1] + 3.75*x[2] + 4.85*x[3] + 3.45*x[4] :  84.0 :  False\n",
            "          3 :  -Inf : 6.5*x[0] + 8.0*x[1] + 10.5*x[2] + 11.75*x[3] + 14.5*x[4] :  76.0 :   True\n",
            "          4 :  -Inf : 5.75*x[0] + 4.5*x[1] + 3.75*x[2] + 4.85*x[3] + 3.45*x[4] :  87.0 :   True\n",
            "\n",
            "5 Declarations: x_index x objective constraints_index constraints\n"
          ]
        }
      ]
    },
    {
      "cell_type": "code",
      "source": [
        "result = opt_cbc.solve(model_lab4_ex2)\n",
        "print('Solver status:', result.solver.status)\n",
        "print('Solver termination condition:',result.solver.termination_condition)"
      ],
      "metadata": {
        "colab": {
          "base_uri": "https://localhost:8080/"
        },
        "id": "UDjbv7AfgP7y",
        "outputId": "db1b227a-9899-44b2-c2a9-ca714fc9f34e"
      },
      "execution_count": null,
      "outputs": [
        {
          "output_type": "stream",
          "name": "stdout",
          "text": [
            "Solver status: ok\n",
            "Solver termination condition: optimal\n"
          ]
        }
      ]
    },
    {
      "cell_type": "code",
      "source": [
        "# display solution\n",
        "print('\\nObjective = ', model_lab4_ex2.objective())\n",
        "\n",
        "print('\\nDecision Variables')\n",
        "for i in col_indices:\n",
        "  print('number of drone model ',data_csvfile['Drone Model'][i], model_lab4_ex2.x[i].value)\n",
        "\n",
        "print('\\nConstraints')\n",
        "model_lab4_ex2.constraints.display()"
      ],
      "metadata": {
        "colab": {
          "base_uri": "https://localhost:8080/"
        },
        "id": "guJGDkOwgT2k",
        "outputId": "2d39af5c-3e5c-4197-fb58-6b1154da1e05"
      },
      "execution_count": null,
      "outputs": [
        {
          "output_type": "stream",
          "name": "stdout",
          "text": [
            "\n",
            "Objective =  127.0\n",
            "\n",
            "Decision Variables\n",
            "number of drone model  SHREY 8.0\n",
            "number of drone model  DHARAN 3.0\n",
            "number of drone model  SATVA 0.0\n",
            "number of drone model  ADHYA 0.0\n",
            "number of drone model  PRAVAT 0.0\n",
            "\n",
            "Constraints\n",
            "constraints : Size=4\n",
            "    Key : Lower : Body : Upper\n",
            "      3 :  None : 76.0 :  76.0\n",
            "      4 :  None : 59.5 :  87.0\n"
          ]
        }
      ]
    },
    {
      "cell_type": "markdown",
      "source": [
        "$\\huge{solution \\ \\ of \\ \\ 2.9}$\n",
        "\n",
        "$ \\Huge{solution \\ \\ of \\ \\ LP \\ \\ Model}$\n",
        "\n",
        "\n",
        "Objective =  128.615388\n",
        "\n",
        "Decision Variables\n",
        "\n",
        "number  of drone model  SHREY 11.692308\n",
        "\n",
        "number  of drone model  DHARAN 0.0\n",
        "\n",
        "number  of drone model  SATVA 0.0\n",
        "\n",
        "number  of drone model  ADHYA 0.0\n",
        "\n",
        "number  of drone model  PRAVAT 0.0\n",
        "\n",
        "$\\Huge{solution \\ \\ of \\ \\  MILP \\ \\ Model}$\n",
        "\n",
        "Objective =  127.0\n",
        "\n",
        "Decision Variables\n",
        "\n",
        "number of drone model  SHREY 8.0\n",
        "\n",
        "number of drone model  DHARAN 3.0\n",
        "\n",
        "number of drone model  SATVA 0.0\n",
        "\n",
        "number of drone model  ADHYA 0.0\n",
        "\n",
        "number of drone model  PRAVAT 0.0\n",
        "  \n",
        "\n",
        "$\\textbf{here we get different solution for MILP and LP}$\n",
        "\n",
        "because here LP solution is infeasible for our problem as number of drone model can't be float\n",
        "so, we get different solution for MILP\n",
        "\n"
      ],
      "metadata": {
        "id": "xBsY_lnZ8D99"
      }
    },
    {
      "cell_type": "markdown",
      "source": [
        "$\\Huge{solution \\ \\ of \\ \\ 2.10 \\ \\ when } \\\\   \\Huge{cost \\le74 \\ \\ and \\ \\  parking \\ space \\le88 }$ \n",
        "\n",
        "$\\huge{by \\ \\ LP }$"
      ],
      "metadata": {
        "id": "I0PX1i6gG_8o"
      }
    },
    {
      "cell_type": "code",
      "source": [
        "model_lab4_ex2.constraints.add(summation(data_csvfile['Cost (in Crores of rupees)'],model_lab4_ex2.x) <= 74)\n",
        "model_lab4_ex2.constraints.add(summation(data_csvfile['Parking space (sq. m.)'],model_lab4_ex2.x) <= 88)\n",
        "model_lab4_ex2.constraints[3].deactivate()\n",
        "model_lab4_ex2.constraints[4].deactivate()\n",
        "model_lab4_ex2.x.domain=Reals\n",
        "model_lab4_ex2.pprint()"
      ],
      "metadata": {
        "colab": {
          "base_uri": "https://localhost:8080/"
        },
        "id": "dRLxFppzgimP",
        "outputId": "97afba41-acd1-4326-9569-ddc1605c0a95"
      },
      "execution_count": null,
      "outputs": [
        {
          "output_type": "stream",
          "name": "stdout",
          "text": [
            "2 Set Declarations\n",
            "    constraints_index : Size=1, Index=None, Ordered=Insertion\n",
            "        Key  : Dimen : Domain : Size : Members\n",
            "        None :     1 :    Any :    6 : {1, 2, 3, 4, 5, 6}\n",
            "    x_index : Size=1, Index=None, Ordered=Insertion\n",
            "        Key  : Dimen : Domain : Size : Members\n",
            "        None :     1 :    Any :    5 : {0, 1, 2, 3, 4}\n",
            "\n",
            "1 Var Declarations\n",
            "    x : Size=5, Index=x_index\n",
            "        Key : Lower : Value : Upper : Fixed : Stale : Domain\n",
            "          0 :     0 :   8.0 :  None : False : False :  Reals\n",
            "          1 :     0 :   3.0 :  None : False : False :  Reals\n",
            "          2 :     0 :   0.0 :  None : False : False :  Reals\n",
            "          3 :     0 :   0.0 :  None : False : False :  Reals\n",
            "          4 :     0 :   0.0 :  None : False : False :  Reals\n",
            "\n",
            "1 Objective Declarations\n",
            "    objective : Size=1, Index=None, Active=True\n",
            "        Key  : Active : Sense    : Expression\n",
            "        None :   True : maximize : 11*x[0] + 13*x[1] + 9*x[2] + 15*x[3] + 12*x[4]\n",
            "\n",
            "1 Constraint Declarations\n",
            "    constraints : Size=6, Index=constraints_index, Active=True\n",
            "        Key : Lower : Body                                                     : Upper : Active\n",
            "          1 :  -Inf : 6.5*x[0] + 8.0*x[1] + 10.5*x[2] + 11.75*x[3] + 14.5*x[4] :  78.0 :  False\n",
            "          2 :  -Inf : 5.75*x[0] + 4.5*x[1] + 3.75*x[2] + 4.85*x[3] + 3.45*x[4] :  84.0 :  False\n",
            "          3 :  -Inf : 6.5*x[0] + 8.0*x[1] + 10.5*x[2] + 11.75*x[3] + 14.5*x[4] :  76.0 :  False\n",
            "          4 :  -Inf : 5.75*x[0] + 4.5*x[1] + 3.75*x[2] + 4.85*x[3] + 3.45*x[4] :  87.0 :  False\n",
            "          5 :  -Inf : 6.5*x[0] + 8.0*x[1] + 10.5*x[2] + 11.75*x[3] + 14.5*x[4] :  74.0 :   True\n",
            "          6 :  -Inf : 5.75*x[0] + 4.5*x[1] + 3.75*x[2] + 4.85*x[3] + 3.45*x[4] :  88.0 :   True\n",
            "\n",
            "5 Declarations: x_index x objective constraints_index constraints\n"
          ]
        }
      ]
    },
    {
      "cell_type": "code",
      "source": [
        "result = opt_cbc.solve(model_lab4_ex2)\n",
        "print('Solver status:', result.solver.status)\n",
        "print('Solver termination condition:',result.solver.termination_condition)\n",
        "print('\\nObjective = ', model_lab4_ex2.objective())\n",
        "\n",
        "print('\\nDecision Variables')\n",
        "for i in col_indices:\n",
        "  print('no of drone model ',data_csvfile['Drone Model'][i], model_lab4_ex2.x[i].value)\n",
        "\n",
        "print('\\nConstraints')\n",
        "model_lab4_ex2.constraints.display()\n"
      ],
      "metadata": {
        "colab": {
          "base_uri": "https://localhost:8080/"
        },
        "id": "Dol6ucRPi4kj",
        "outputId": "126d8b2e-9a53-455d-ce13-fb32d89222df"
      },
      "execution_count": null,
      "outputs": [
        {
          "output_type": "stream",
          "name": "stdout",
          "text": [
            "Solver status: ok\n",
            "Solver termination condition: optimal\n",
            "\n",
            "Objective =  125.230765\n",
            "\n",
            "Decision Variables\n",
            "no of drone model  SHREY 11.384615\n",
            "no of drone model  DHARAN 0.0\n",
            "no of drone model  SATVA 0.0\n",
            "no of drone model  ADHYA 0.0\n",
            "no of drone model  PRAVAT 0.0\n",
            "\n",
            "Constraints\n",
            "constraints : Size=6\n",
            "    Key : Lower : Body        : Upper\n",
            "      5 :  None :  73.9999975 :  74.0\n",
            "      6 :  None : 65.46153625 :  88.0\n"
          ]
        }
      ]
    },
    {
      "cell_type": "markdown",
      "source": [
        "$\\Huge{solution \\ \\ of \\ \\ 2.10 \\ \\ when } \\\\   \\Huge{cost \\le74 \\ \\ and \\ \\  parking \\ space \\le88 }$ \n",
        "\n",
        "$\\huge{by \\ \\ MILP }$"
      ],
      "metadata": {
        "id": "qPp5ZWVMIVuX"
      }
    },
    {
      "cell_type": "code",
      "source": [
        "model_lab4_ex2.x.domain=NonNegativeIntegers\n",
        "model_lab4_ex2.pprint()"
      ],
      "metadata": {
        "colab": {
          "base_uri": "https://localhost:8080/"
        },
        "id": "whBc7ZUKjByj",
        "outputId": "b1969344-a18a-4988-a561-e63203e48758"
      },
      "execution_count": null,
      "outputs": [
        {
          "output_type": "stream",
          "name": "stdout",
          "text": [
            "2 Set Declarations\n",
            "    constraints_index : Size=1, Index=None, Ordered=Insertion\n",
            "        Key  : Dimen : Domain : Size : Members\n",
            "        None :     1 :    Any :    6 : {1, 2, 3, 4, 5, 6}\n",
            "    x_index : Size=1, Index=None, Ordered=Insertion\n",
            "        Key  : Dimen : Domain : Size : Members\n",
            "        None :     1 :    Any :    5 : {0, 1, 2, 3, 4}\n",
            "\n",
            "1 Var Declarations\n",
            "    x : Size=5, Index=x_index\n",
            "        Key : Lower : Value     : Upper : Fixed : Stale : Domain\n",
            "          0 :     0 : 11.384615 :  None : False : False : NonNegativeIntegers\n",
            "          1 :     0 :       0.0 :  None : False : False : NonNegativeIntegers\n",
            "          2 :     0 :       0.0 :  None : False : False : NonNegativeIntegers\n",
            "          3 :     0 :       0.0 :  None : False : False : NonNegativeIntegers\n",
            "          4 :     0 :       0.0 :  None : False : False : NonNegativeIntegers\n",
            "\n",
            "1 Objective Declarations\n",
            "    objective : Size=1, Index=None, Active=True\n",
            "        Key  : Active : Sense    : Expression\n",
            "        None :   True : maximize : 11*x[0] + 13*x[1] + 9*x[2] + 15*x[3] + 12*x[4]\n",
            "\n",
            "1 Constraint Declarations\n",
            "    constraints : Size=6, Index=constraints_index, Active=True\n",
            "        Key : Lower : Body                                                     : Upper : Active\n",
            "          1 :  -Inf : 6.5*x[0] + 8.0*x[1] + 10.5*x[2] + 11.75*x[3] + 14.5*x[4] :  78.0 :  False\n",
            "          2 :  -Inf : 5.75*x[0] + 4.5*x[1] + 3.75*x[2] + 4.85*x[3] + 3.45*x[4] :  84.0 :  False\n",
            "          3 :  -Inf : 6.5*x[0] + 8.0*x[1] + 10.5*x[2] + 11.75*x[3] + 14.5*x[4] :  76.0 :  False\n",
            "          4 :  -Inf : 5.75*x[0] + 4.5*x[1] + 3.75*x[2] + 4.85*x[3] + 3.45*x[4] :  87.0 :  False\n",
            "          5 :  -Inf : 6.5*x[0] + 8.0*x[1] + 10.5*x[2] + 11.75*x[3] + 14.5*x[4] :  74.0 :   True\n",
            "          6 :  -Inf : 5.75*x[0] + 4.5*x[1] + 3.75*x[2] + 4.85*x[3] + 3.45*x[4] :  88.0 :   True\n",
            "\n",
            "5 Declarations: x_index x objective constraints_index constraints\n"
          ]
        }
      ]
    },
    {
      "cell_type": "code",
      "source": [
        "result = opt_cbc.solve(model_lab4_ex2)\n",
        "print('Solver status:', result.solver.status)\n",
        "print('Solver termination condition:',result.solver.termination_condition)\n",
        "print('\\nObjective = ', model_lab4_ex2.objective())\n",
        "\n",
        "print('\\nDecision Variables')\n",
        "for i in col_indices:\n",
        "  print('no of drone model ',data_csvfile['Drone Model'][i], model_lab4_ex2.x[i].value)\n",
        "\n",
        "print('\\nConstraints')\n",
        "model_lab4_ex2.constraints.display()"
      ],
      "metadata": {
        "colab": {
          "base_uri": "https://localhost:8080/"
        },
        "id": "-MF4hbaIjWnv",
        "outputId": "e6c3d3fd-7562-47ad-e498-be6bfe9fa331"
      },
      "execution_count": null,
      "outputs": [
        {
          "output_type": "stream",
          "name": "stdout",
          "text": [
            "Solver status: ok\n",
            "Solver termination condition: optimal\n",
            "\n",
            "Objective =  123.0\n",
            "\n",
            "Decision Variables\n",
            "no of drone model  SHREY 10.0\n",
            "no of drone model  DHARAN 1.0\n",
            "no of drone model  SATVA 0.0\n",
            "no of drone model  ADHYA 0.0\n",
            "no of drone model  PRAVAT 0.0\n",
            "\n",
            "Constraints\n",
            "constraints : Size=6\n",
            "    Key : Lower : Body : Upper\n",
            "      5 :  None : 73.0 :  74.0\n",
            "      6 :  None : 62.0 :  88.0\n"
          ]
        }
      ]
    },
    {
      "cell_type": "markdown",
      "source": [
        "$\\Huge{solution \\ \\ of \\ \\ 2.10 \\ \\ when } \\\\   \\Huge{cost \\le74 \\ \\ and \\ \\  parking \\ space \\le88 }$ \n",
        "\n",
        "$\\huge{by \\ \\ LP }$\n",
        "\n",
        "\n",
        "Objective =  125.230765\n",
        "\n",
        "Decision Variables\n",
        "\n",
        "no of drone model  SHREY 11.384615\n",
        "\n",
        "no of drone model  DHARAN 0.0\n",
        "\n",
        "no of drone model  SATVA 0.0\n",
        "\n",
        "no of drone model  ADHYA 0.0\n",
        "\n",
        "no of drone model  PRAVAT 0.0\n",
        "\n",
        "$\\huge{by  \\ \\ MILP}$\n",
        "\n",
        "Objective =  123.0\n",
        "\n",
        "Decision Variables\n",
        "\n",
        "no of drone model  SHREY 10.0\n",
        "\n",
        "no of drone model  DHARAN 1.0\n",
        "\n",
        "no of drone model  SATVA 0.0\n",
        "\n",
        "no of drone model  ADHYA 0.0\n",
        "\n",
        "no of drone model  PRAVAT 0.0\n",
        "\n",
        "$\\textbf{here we get different solution for MILP and LP}$\n",
        "\n",
        "because here LP solution is infeasible for our problem as number of drone model can't be float\n",
        "so, we get different solution for MILP\n"
      ],
      "metadata": {
        "id": "TLMV63xsIgUT"
      }
    },
    {
      "cell_type": "markdown",
      "source": [
        "$\\Huge{solution \\ \\ of \\ \\ 2.10 \\ \\ when } \\\\   \\Huge{cost \\le72 \\ \\ and \\ \\  parking \\ space \\le89 }$ \n",
        "\n",
        "$\\huge{by \\ \\ LP }$"
      ],
      "metadata": {
        "id": "V3enVZjuJmKn"
      }
    },
    {
      "cell_type": "code",
      "source": [
        "model_lab4_ex2.constraints.add(summation(data_csvfile['Cost (in Crores of rupees)'],model_lab4_ex2.x) <= 72)\n",
        "model_lab4_ex2.constraints.add(summation(data_csvfile['Parking space (sq. m.)'],model_lab4_ex2.x) <= 89)\n",
        "model_lab4_ex2.constraints[5].deactivate()\n",
        "model_lab4_ex2.constraints[6].deactivate()\n",
        "model_lab4_ex2.x.domain=Reals\n",
        "model_lab4_ex2.pprint()"
      ],
      "metadata": {
        "colab": {
          "base_uri": "https://localhost:8080/"
        },
        "id": "dxvjNOcKjZPr",
        "outputId": "abdc9735-3662-42c5-af68-94b50efef425"
      },
      "execution_count": null,
      "outputs": [
        {
          "output_type": "stream",
          "name": "stdout",
          "text": [
            "2 Set Declarations\n",
            "    constraints_index : Size=1, Index=None, Ordered=Insertion\n",
            "        Key  : Dimen : Domain : Size : Members\n",
            "        None :     1 :    Any :    8 : {1, 2, 3, 4, 5, 6, 7, 8}\n",
            "    x_index : Size=1, Index=None, Ordered=Insertion\n",
            "        Key  : Dimen : Domain : Size : Members\n",
            "        None :     1 :    Any :    5 : {0, 1, 2, 3, 4}\n",
            "\n",
            "1 Var Declarations\n",
            "    x : Size=5, Index=x_index\n",
            "        Key : Lower : Value : Upper : Fixed : Stale : Domain\n",
            "          0 :     0 :  10.0 :  None : False : False :  Reals\n",
            "          1 :     0 :   1.0 :  None : False : False :  Reals\n",
            "          2 :     0 :   0.0 :  None : False : False :  Reals\n",
            "          3 :     0 :   0.0 :  None : False : False :  Reals\n",
            "          4 :     0 :   0.0 :  None : False : False :  Reals\n",
            "\n",
            "1 Objective Declarations\n",
            "    objective : Size=1, Index=None, Active=True\n",
            "        Key  : Active : Sense    : Expression\n",
            "        None :   True : maximize : 11*x[0] + 13*x[1] + 9*x[2] + 15*x[3] + 12*x[4]\n",
            "\n",
            "1 Constraint Declarations\n",
            "    constraints : Size=8, Index=constraints_index, Active=True\n",
            "        Key : Lower : Body                                                     : Upper : Active\n",
            "          1 :  -Inf : 6.5*x[0] + 8.0*x[1] + 10.5*x[2] + 11.75*x[3] + 14.5*x[4] :  78.0 :  False\n",
            "          2 :  -Inf : 5.75*x[0] + 4.5*x[1] + 3.75*x[2] + 4.85*x[3] + 3.45*x[4] :  84.0 :  False\n",
            "          3 :  -Inf : 6.5*x[0] + 8.0*x[1] + 10.5*x[2] + 11.75*x[3] + 14.5*x[4] :  76.0 :  False\n",
            "          4 :  -Inf : 5.75*x[0] + 4.5*x[1] + 3.75*x[2] + 4.85*x[3] + 3.45*x[4] :  87.0 :  False\n",
            "          5 :  -Inf : 6.5*x[0] + 8.0*x[1] + 10.5*x[2] + 11.75*x[3] + 14.5*x[4] :  74.0 :  False\n",
            "          6 :  -Inf : 5.75*x[0] + 4.5*x[1] + 3.75*x[2] + 4.85*x[3] + 3.45*x[4] :  88.0 :  False\n",
            "          7 :  -Inf : 6.5*x[0] + 8.0*x[1] + 10.5*x[2] + 11.75*x[3] + 14.5*x[4] :  72.0 :   True\n",
            "          8 :  -Inf : 5.75*x[0] + 4.5*x[1] + 3.75*x[2] + 4.85*x[3] + 3.45*x[4] :  89.0 :   True\n",
            "\n",
            "5 Declarations: x_index x objective constraints_index constraints\n"
          ]
        }
      ]
    },
    {
      "cell_type": "code",
      "source": [
        "result = opt_cbc.solve(model_lab4_ex2)\n",
        "print('Solver status:', result.solver.status)\n",
        "print('Solver termination condition:',result.solver.termination_condition)\n",
        "print('\\nObjective = ', model_lab4_ex2.objective())\n",
        "\n",
        "print('\\nDecision Variables')\n",
        "for i in col_indices:\n",
        "  print('no of drone model ',data_csvfile['Drone Model'][i], model_lab4_ex2.x[i].value)\n",
        "\n",
        "print('\\nConstraints')\n",
        "model_lab4_ex2.constraints.display()"
      ],
      "metadata": {
        "colab": {
          "base_uri": "https://localhost:8080/"
        },
        "id": "uL1WdLfAjobH",
        "outputId": "53a7b0b8-628a-40dd-d36d-7a6655ba3317"
      },
      "execution_count": null,
      "outputs": [
        {
          "output_type": "stream",
          "name": "stdout",
          "text": [
            "Solver status: ok\n",
            "Solver termination condition: optimal\n",
            "\n",
            "Objective =  121.84615300000002\n",
            "\n",
            "Decision Variables\n",
            "no of drone model  SHREY 11.076923\n",
            "no of drone model  DHARAN 0.0\n",
            "no of drone model  SATVA 0.0\n",
            "no of drone model  ADHYA 0.0\n",
            "no of drone model  PRAVAT 0.0\n",
            "\n",
            "Constraints\n",
            "constraints : Size=8\n",
            "    Key : Lower : Body               : Upper\n",
            "      7 :  None :         71.9999995 :  72.0\n",
            "      8 :  None : 63.692307250000006 :  89.0\n"
          ]
        }
      ]
    },
    {
      "cell_type": "markdown",
      "source": [
        "$\\Huge{solution \\ \\ of \\ \\ 2.10 \\ \\ when } \\\\   \\Huge{cost \\le72 \\ \\ and \\ \\  parking \\ space \\le89 }$ \n",
        "\n",
        "$\\huge{by \\ \\ MILP }$"
      ],
      "metadata": {
        "id": "gcK0tIv0J3h6"
      }
    },
    {
      "cell_type": "code",
      "source": [
        "model_lab4_ex2.x.domain=NonNegativeIntegers\n",
        "model_lab4_ex2.pprint()"
      ],
      "metadata": {
        "colab": {
          "base_uri": "https://localhost:8080/"
        },
        "id": "8fesz3dqjwxV",
        "outputId": "775b0808-b538-4125-a183-6ef8a2bffdfb"
      },
      "execution_count": null,
      "outputs": [
        {
          "output_type": "stream",
          "name": "stdout",
          "text": [
            "2 Set Declarations\n",
            "    constraints_index : Size=1, Index=None, Ordered=Insertion\n",
            "        Key  : Dimen : Domain : Size : Members\n",
            "        None :     1 :    Any :    8 : {1, 2, 3, 4, 5, 6, 7, 8}\n",
            "    x_index : Size=1, Index=None, Ordered=Insertion\n",
            "        Key  : Dimen : Domain : Size : Members\n",
            "        None :     1 :    Any :    5 : {0, 1, 2, 3, 4}\n",
            "\n",
            "1 Var Declarations\n",
            "    x : Size=5, Index=x_index\n",
            "        Key : Lower : Value     : Upper : Fixed : Stale : Domain\n",
            "          0 :     0 : 11.076923 :  None : False : False : NonNegativeIntegers\n",
            "          1 :     0 :       0.0 :  None : False : False : NonNegativeIntegers\n",
            "          2 :     0 :       0.0 :  None : False : False : NonNegativeIntegers\n",
            "          3 :     0 :       0.0 :  None : False : False : NonNegativeIntegers\n",
            "          4 :     0 :       0.0 :  None : False : False : NonNegativeIntegers\n",
            "\n",
            "1 Objective Declarations\n",
            "    objective : Size=1, Index=None, Active=True\n",
            "        Key  : Active : Sense    : Expression\n",
            "        None :   True : maximize : 11*x[0] + 13*x[1] + 9*x[2] + 15*x[3] + 12*x[4]\n",
            "\n",
            "1 Constraint Declarations\n",
            "    constraints : Size=8, Index=constraints_index, Active=True\n",
            "        Key : Lower : Body                                                     : Upper : Active\n",
            "          1 :  -Inf : 6.5*x[0] + 8.0*x[1] + 10.5*x[2] + 11.75*x[3] + 14.5*x[4] :  78.0 :  False\n",
            "          2 :  -Inf : 5.75*x[0] + 4.5*x[1] + 3.75*x[2] + 4.85*x[3] + 3.45*x[4] :  84.0 :  False\n",
            "          3 :  -Inf : 6.5*x[0] + 8.0*x[1] + 10.5*x[2] + 11.75*x[3] + 14.5*x[4] :  76.0 :  False\n",
            "          4 :  -Inf : 5.75*x[0] + 4.5*x[1] + 3.75*x[2] + 4.85*x[3] + 3.45*x[4] :  87.0 :  False\n",
            "          5 :  -Inf : 6.5*x[0] + 8.0*x[1] + 10.5*x[2] + 11.75*x[3] + 14.5*x[4] :  74.0 :  False\n",
            "          6 :  -Inf : 5.75*x[0] + 4.5*x[1] + 3.75*x[2] + 4.85*x[3] + 3.45*x[4] :  88.0 :  False\n",
            "          7 :  -Inf : 6.5*x[0] + 8.0*x[1] + 10.5*x[2] + 11.75*x[3] + 14.5*x[4] :  72.0 :   True\n",
            "          8 :  -Inf : 5.75*x[0] + 4.5*x[1] + 3.75*x[2] + 4.85*x[3] + 3.45*x[4] :  89.0 :   True\n",
            "\n",
            "5 Declarations: x_index x objective constraints_index constraints\n"
          ]
        }
      ]
    },
    {
      "cell_type": "code",
      "source": [
        "result = opt_cbc.solve(model_lab4_ex2)\n",
        "print('Solver status:', result.solver.status)\n",
        "print('Solver termination condition:',result.solver.termination_condition)\n",
        "print('\\nObjective = ', model_lab4_ex2.objective())\n",
        "\n",
        "print('\\nDecision Variables')\n",
        "for i in col_indices:\n",
        "  print('no of drone model ',data_csvfile['Drone Model'][i], model_lab4_ex2.x[i].value)\n",
        "\n",
        "print('\\nConstraints')\n",
        "model_lab4_ex2.constraints.display()"
      ],
      "metadata": {
        "colab": {
          "base_uri": "https://localhost:8080/"
        },
        "id": "IYkbjOomj3mG",
        "outputId": "4ad0285d-d135-43f2-c364-7673e5fd8cd0"
      },
      "execution_count": null,
      "outputs": [
        {
          "output_type": "stream",
          "name": "stdout",
          "text": [
            "Solver status: ok\n",
            "Solver termination condition: optimal\n",
            "\n",
            "Objective =  121.0\n",
            "\n",
            "Decision Variables\n",
            "no of drone model  SHREY 11.0\n",
            "no of drone model  DHARAN 0.0\n",
            "no of drone model  SATVA 0.0\n",
            "no of drone model  ADHYA 0.0\n",
            "no of drone model  PRAVAT 0.0\n",
            "\n",
            "Constraints\n",
            "constraints : Size=8\n",
            "    Key : Lower : Body  : Upper\n",
            "      7 :  None :  71.5 :  72.0\n",
            "      8 :  None : 63.25 :  89.0\n"
          ]
        }
      ]
    },
    {
      "cell_type": "markdown",
      "source": [
        "$\\Huge{solution \\ \\ of \\ \\ 2.10 \\ \\ when } \\\\   \\Huge{cost \\le72 \\ \\ and \\ \\  parking \\ space \\le89 }$ \n",
        "\n",
        "$\\huge{by \\ \\ LP }$\n",
        "\n",
        "Objective =  121.84615300000002\n",
        "\n",
        "Decision Variables\n",
        "\n",
        "no of drone model  SHREY 11.076923\n",
        "\n",
        "no of drone model  DHARAN 0.0\n",
        "\n",
        "no of drone model  SATVA 0.0\n",
        "\n",
        "no of drone model  ADHYA 0.0\n",
        "\n",
        "no of drone model  PRAVAT 0.0\n",
        "\n",
        "$\\huge{by \\ \\ MILP}$\n",
        "\n",
        "Objective =  121.0\n",
        "\n",
        "Decision Variables\n",
        "\n",
        "no of drone model  SHREY 11.0\n",
        "\n",
        "no of drone model  DHARAN 0.0\n",
        "\n",
        "no of drone model  SATVA 0.0\n",
        "\n",
        "no of drone model  ADHYA 0.0\n",
        "\n",
        "no of drone model  PRAVAT 0.0\n",
        "\n",
        "$\\textbf{here we get different solution for MILP and LP}$\n",
        "\n",
        "because here LP solution is infeasible for our problem as number of drone model can't be float\n",
        "so, we get different solution for MILP"
      ],
      "metadata": {
        "id": "Zx_DIx6FKkkO"
      }
    },
    {
      "cell_type": "markdown",
      "source": [
        "$\\Huge{solution \\ \\ of \\ \\ 2.10 \\ \\ when } \\\\   \\Huge{cost \\le70 \\ \\ and \\ \\  parking \\ space \\le90 }$ \n",
        "\n",
        "$\\huge{by \\ \\ LP }$"
      ],
      "metadata": {
        "id": "bcnr3bxdLqpH"
      }
    },
    {
      "cell_type": "code",
      "source": [
        "model_lab4_ex2.constraints.add(summation(data_csvfile['Cost (in Crores of rupees)'],model_lab4_ex2.x) <= 70)\n",
        "model_lab4_ex2.constraints.add(summation(data_csvfile['Parking space (sq. m.)'],model_lab4_ex2.x) <= 90)\n",
        "model_lab4_ex2.constraints[7].deactivate()\n",
        "model_lab4_ex2.constraints[8].deactivate()\n",
        "model_lab4_ex2.x.domain=Reals\n",
        "model_lab4_ex2.pprint()"
      ],
      "metadata": {
        "colab": {
          "base_uri": "https://localhost:8080/"
        },
        "id": "SyNltxPOj7Wa",
        "outputId": "c57643ae-f87a-4a1d-9b27-144c6b7386d6"
      },
      "execution_count": null,
      "outputs": [
        {
          "output_type": "stream",
          "name": "stdout",
          "text": [
            "2 Set Declarations\n",
            "    constraints_index : Size=1, Index=None, Ordered=Insertion\n",
            "        Key  : Dimen : Domain : Size : Members\n",
            "        None :     1 :    Any :   10 : {1, 2, 3, 4, 5, 6, 7, 8, 9, 10}\n",
            "    x_index : Size=1, Index=None, Ordered=Insertion\n",
            "        Key  : Dimen : Domain : Size : Members\n",
            "        None :     1 :    Any :    5 : {0, 1, 2, 3, 4}\n",
            "\n",
            "1 Var Declarations\n",
            "    x : Size=5, Index=x_index\n",
            "        Key : Lower : Value : Upper : Fixed : Stale : Domain\n",
            "          0 :     0 :  11.0 :  None : False : False :  Reals\n",
            "          1 :     0 :   0.0 :  None : False : False :  Reals\n",
            "          2 :     0 :   0.0 :  None : False : False :  Reals\n",
            "          3 :     0 :   0.0 :  None : False : False :  Reals\n",
            "          4 :     0 :   0.0 :  None : False : False :  Reals\n",
            "\n",
            "1 Objective Declarations\n",
            "    objective : Size=1, Index=None, Active=True\n",
            "        Key  : Active : Sense    : Expression\n",
            "        None :   True : maximize : 11*x[0] + 13*x[1] + 9*x[2] + 15*x[3] + 12*x[4]\n",
            "\n",
            "1 Constraint Declarations\n",
            "    constraints : Size=10, Index=constraints_index, Active=True\n",
            "        Key : Lower : Body                                                     : Upper : Active\n",
            "          1 :  -Inf : 6.5*x[0] + 8.0*x[1] + 10.5*x[2] + 11.75*x[3] + 14.5*x[4] :  78.0 :  False\n",
            "          2 :  -Inf : 5.75*x[0] + 4.5*x[1] + 3.75*x[2] + 4.85*x[3] + 3.45*x[4] :  84.0 :  False\n",
            "          3 :  -Inf : 6.5*x[0] + 8.0*x[1] + 10.5*x[2] + 11.75*x[3] + 14.5*x[4] :  76.0 :  False\n",
            "          4 :  -Inf : 5.75*x[0] + 4.5*x[1] + 3.75*x[2] + 4.85*x[3] + 3.45*x[4] :  87.0 :  False\n",
            "          5 :  -Inf : 6.5*x[0] + 8.0*x[1] + 10.5*x[2] + 11.75*x[3] + 14.5*x[4] :  74.0 :  False\n",
            "          6 :  -Inf : 5.75*x[0] + 4.5*x[1] + 3.75*x[2] + 4.85*x[3] + 3.45*x[4] :  88.0 :  False\n",
            "          7 :  -Inf : 6.5*x[0] + 8.0*x[1] + 10.5*x[2] + 11.75*x[3] + 14.5*x[4] :  72.0 :  False\n",
            "          8 :  -Inf : 5.75*x[0] + 4.5*x[1] + 3.75*x[2] + 4.85*x[3] + 3.45*x[4] :  89.0 :  False\n",
            "          9 :  -Inf : 6.5*x[0] + 8.0*x[1] + 10.5*x[2] + 11.75*x[3] + 14.5*x[4] :  70.0 :   True\n",
            "         10 :  -Inf : 5.75*x[0] + 4.5*x[1] + 3.75*x[2] + 4.85*x[3] + 3.45*x[4] :  90.0 :   True\n",
            "\n",
            "5 Declarations: x_index x objective constraints_index constraints\n"
          ]
        }
      ]
    },
    {
      "cell_type": "code",
      "source": [
        "result = opt_cbc.solve(model_lab4_ex2)\n",
        "print('Solver status:', result.solver.status)\n",
        "print('Solver termination condition:',result.solver.termination_condition)\n",
        "print('\\nObjective = ', model_lab4_ex2.objective())\n",
        "\n",
        "print('\\nDecision Variables')\n",
        "for i in col_indices:\n",
        "  print('no of drone model ',data_csvfile['Drone Model'][i], model_lab4_ex2.x[i].value)\n",
        "\n",
        "print('\\nConstraints')\n",
        "model_lab4_ex2.constraints.display()"
      ],
      "metadata": {
        "colab": {
          "base_uri": "https://localhost:8080/"
        },
        "id": "6Khhe84JkLV_",
        "outputId": "a313060c-6233-4493-a6c5-fb5e4986c3fd"
      },
      "execution_count": null,
      "outputs": [
        {
          "output_type": "stream",
          "name": "stdout",
          "text": [
            "Solver status: ok\n",
            "Solver termination condition: optimal\n",
            "\n",
            "Objective =  118.461541\n",
            "\n",
            "Decision Variables\n",
            "no of drone model  SHREY 10.769231\n",
            "no of drone model  DHARAN 0.0\n",
            "no of drone model  SATVA 0.0\n",
            "no of drone model  ADHYA 0.0\n",
            "no of drone model  PRAVAT 0.0\n",
            "\n",
            "Constraints\n",
            "constraints : Size=10\n",
            "    Key : Lower : Body               : Upper\n",
            "      9 :  None :         70.0000015 :  70.0\n",
            "     10 :  None : 61.923078249999996 :  90.0\n"
          ]
        }
      ]
    },
    {
      "cell_type": "markdown",
      "source": [
        "$\\Huge{solution \\ \\ of \\ \\ 2.10 \\ \\ when } \\\\   \\Huge{cost \\le70 \\ \\ and \\ \\  parking \\ space \\le90 }$ \n",
        "\n",
        "$\\huge{by \\ \\ MILP }$"
      ],
      "metadata": {
        "id": "lKScsaQeL7V7"
      }
    },
    {
      "cell_type": "code",
      "source": [
        "model_lab4_ex2.x.domain=NonNegativeIntegers\n",
        "model_lab4_ex2.pprint()"
      ],
      "metadata": {
        "colab": {
          "base_uri": "https://localhost:8080/"
        },
        "id": "DEHBv4EbkQnp",
        "outputId": "c89e33a8-b71a-4509-a7a4-566f30827913"
      },
      "execution_count": null,
      "outputs": [
        {
          "output_type": "stream",
          "name": "stdout",
          "text": [
            "2 Set Declarations\n",
            "    constraints_index : Size=1, Index=None, Ordered=Insertion\n",
            "        Key  : Dimen : Domain : Size : Members\n",
            "        None :     1 :    Any :   10 : {1, 2, 3, 4, 5, 6, 7, 8, 9, 10}\n",
            "    x_index : Size=1, Index=None, Ordered=Insertion\n",
            "        Key  : Dimen : Domain : Size : Members\n",
            "        None :     1 :    Any :    5 : {0, 1, 2, 3, 4}\n",
            "\n",
            "1 Var Declarations\n",
            "    x : Size=5, Index=x_index\n",
            "        Key : Lower : Value     : Upper : Fixed : Stale : Domain\n",
            "          0 :     0 : 10.769231 :  None : False : False : NonNegativeIntegers\n",
            "          1 :     0 :       0.0 :  None : False : False : NonNegativeIntegers\n",
            "          2 :     0 :       0.0 :  None : False : False : NonNegativeIntegers\n",
            "          3 :     0 :       0.0 :  None : False : False : NonNegativeIntegers\n",
            "          4 :     0 :       0.0 :  None : False : False : NonNegativeIntegers\n",
            "\n",
            "1 Objective Declarations\n",
            "    objective : Size=1, Index=None, Active=True\n",
            "        Key  : Active : Sense    : Expression\n",
            "        None :   True : maximize : 11*x[0] + 13*x[1] + 9*x[2] + 15*x[3] + 12*x[4]\n",
            "\n",
            "1 Constraint Declarations\n",
            "    constraints : Size=10, Index=constraints_index, Active=True\n",
            "        Key : Lower : Body                                                     : Upper : Active\n",
            "          1 :  -Inf : 6.5*x[0] + 8.0*x[1] + 10.5*x[2] + 11.75*x[3] + 14.5*x[4] :  78.0 :  False\n",
            "          2 :  -Inf : 5.75*x[0] + 4.5*x[1] + 3.75*x[2] + 4.85*x[3] + 3.45*x[4] :  84.0 :  False\n",
            "          3 :  -Inf : 6.5*x[0] + 8.0*x[1] + 10.5*x[2] + 11.75*x[3] + 14.5*x[4] :  76.0 :  False\n",
            "          4 :  -Inf : 5.75*x[0] + 4.5*x[1] + 3.75*x[2] + 4.85*x[3] + 3.45*x[4] :  87.0 :  False\n",
            "          5 :  -Inf : 6.5*x[0] + 8.0*x[1] + 10.5*x[2] + 11.75*x[3] + 14.5*x[4] :  74.0 :  False\n",
            "          6 :  -Inf : 5.75*x[0] + 4.5*x[1] + 3.75*x[2] + 4.85*x[3] + 3.45*x[4] :  88.0 :  False\n",
            "          7 :  -Inf : 6.5*x[0] + 8.0*x[1] + 10.5*x[2] + 11.75*x[3] + 14.5*x[4] :  72.0 :  False\n",
            "          8 :  -Inf : 5.75*x[0] + 4.5*x[1] + 3.75*x[2] + 4.85*x[3] + 3.45*x[4] :  89.0 :  False\n",
            "          9 :  -Inf : 6.5*x[0] + 8.0*x[1] + 10.5*x[2] + 11.75*x[3] + 14.5*x[4] :  70.0 :   True\n",
            "         10 :  -Inf : 5.75*x[0] + 4.5*x[1] + 3.75*x[2] + 4.85*x[3] + 3.45*x[4] :  90.0 :   True\n",
            "\n",
            "5 Declarations: x_index x objective constraints_index constraints\n"
          ]
        }
      ]
    },
    {
      "cell_type": "code",
      "source": [
        "result = opt_cbc.solve(model_lab4_ex2)\n",
        "print('Solver status:', result.solver.status)\n",
        "print('Solver termination condition:',result.solver.termination_condition)\n",
        "print('\\nObjective = ', model_lab4_ex2.objective())\n",
        "\n",
        "print('\\nDecision Variables')\n",
        "for i in col_indices:\n",
        "  print('no of drone model ',data_csvfile['Drone Model'][i], model_lab4_ex2.x[i].value)\n",
        "\n",
        "print('\\nConstraints')\n",
        "model_lab4_ex2.constraints.display()"
      ],
      "metadata": {
        "colab": {
          "base_uri": "https://localhost:8080/"
        },
        "id": "H586OK_5kVgH",
        "outputId": "5dbde292-2d1a-4ebd-a3b4-04a876b991de"
      },
      "execution_count": null,
      "outputs": [
        {
          "output_type": "stream",
          "name": "stdout",
          "text": [
            "Solver status: ok\n",
            "Solver termination condition: optimal\n",
            "\n",
            "Objective =  116.0\n",
            "\n",
            "Decision Variables\n",
            "no of drone model  SHREY 7.0\n",
            "no of drone model  DHARAN 3.0\n",
            "no of drone model  SATVA 0.0\n",
            "no of drone model  ADHYA 0.0\n",
            "no of drone model  PRAVAT 0.0\n",
            "\n",
            "Constraints\n",
            "constraints : Size=10\n",
            "    Key : Lower : Body  : Upper\n",
            "      9 :  None :  69.5 :  70.0\n",
            "     10 :  None : 53.75 :  90.0\n"
          ]
        }
      ]
    },
    {
      "cell_type": "markdown",
      "source": [
        "$\\Huge{solution \\ \\ of \\ \\ 2.10 \\ \\ when } \\\\   \\Huge{cost \\le70 \\ \\ and \\ \\  parking \\ space \\le90 }$ \n",
        "\n",
        "$\\huge{by \\ \\ LP }$\n",
        "\n",
        "Objective =  118.461541\n",
        "\n",
        "\n",
        "Decision Variables\n",
        "\n",
        "no of drone model  SHREY 10.769231\n",
        "\n",
        "no of drone model  DHARAN 0.0\n",
        "\n",
        "no of drone model  SATVA 0.0\n",
        "\n",
        "no of drone model  ADHYA 0.0\n",
        "\n",
        "no of drone model  PRAVAT 0.0\n",
        "\n",
        "$\\Huge{by \\ \\ MILP }$\n",
        "\n",
        "Objective =  116.0\n",
        "\n",
        "Decision Variables\n",
        "\n",
        "no of drone model  SHREY 7.0\n",
        "\n",
        "no of drone model  DHARAN 3.0\n",
        "\n",
        "no of drone model  SATVA 0.0\n",
        "\n",
        "no of drone model  ADHYA 0.0\n",
        "\n",
        "no of drone model  PRAVAT 0.0\n",
        "\n",
        "$\\textbf{here we get different solution for MILP and LP}$\n",
        "\n",
        "because here LP solution is infeasible for our problem as number of drone model can't be float\n",
        "so, we get different solution for MILP"
      ],
      "metadata": {
        "id": "DFtTDCgxMCrz"
      }
    },
    {
      "cell_type": "markdown",
      "source": [
        "$\\Huge{solution \\ \\ of \\ \\ 2.10 \\ \\ when } \\\\   \\Huge{cost \\le68 \\ \\ and \\ \\  parking \\ space \\le91 }$ \n",
        "\n",
        "$\\huge{by \\ \\ LP }$"
      ],
      "metadata": {
        "id": "zZoK3YfpM2JO"
      }
    },
    {
      "cell_type": "code",
      "source": [
        "model_lab4_ex2.constraints.add(summation(data_csvfile['Cost (in Crores of rupees)'],model_lab4_ex2.x) <= 68)\n",
        "model_lab4_ex2.constraints.add(summation(data_csvfile['Parking space (sq. m.)'],model_lab4_ex2.x) <= 91)\n",
        "model_lab4_ex2.constraints[9].deactivate()\n",
        "model_lab4_ex2.constraints[10].deactivate()\n",
        "model_lab4_ex2.x.domain=Reals\n",
        "model_lab4_ex2.pprint()"
      ],
      "metadata": {
        "colab": {
          "base_uri": "https://localhost:8080/"
        },
        "id": "zCEV7OgEkbc9",
        "outputId": "087642ec-5386-4604-adad-609a816069b2"
      },
      "execution_count": null,
      "outputs": [
        {
          "output_type": "stream",
          "name": "stdout",
          "text": [
            "2 Set Declarations\n",
            "    constraints_index : Size=1, Index=None, Ordered=Insertion\n",
            "        Key  : Dimen : Domain : Size : Members\n",
            "        None :     1 :    Any :   12 : {1, 2, 3, 4, 5, 6, 7, 8, 9, 10, 11, 12}\n",
            "    x_index : Size=1, Index=None, Ordered=Insertion\n",
            "        Key  : Dimen : Domain : Size : Members\n",
            "        None :     1 :    Any :    5 : {0, 1, 2, 3, 4}\n",
            "\n",
            "1 Var Declarations\n",
            "    x : Size=5, Index=x_index\n",
            "        Key : Lower : Value : Upper : Fixed : Stale : Domain\n",
            "          0 :     0 :   7.0 :  None : False : False :  Reals\n",
            "          1 :     0 :   3.0 :  None : False : False :  Reals\n",
            "          2 :     0 :   0.0 :  None : False : False :  Reals\n",
            "          3 :     0 :   0.0 :  None : False : False :  Reals\n",
            "          4 :     0 :   0.0 :  None : False : False :  Reals\n",
            "\n",
            "1 Objective Declarations\n",
            "    objective : Size=1, Index=None, Active=True\n",
            "        Key  : Active : Sense    : Expression\n",
            "        None :   True : maximize : 11*x[0] + 13*x[1] + 9*x[2] + 15*x[3] + 12*x[4]\n",
            "\n",
            "1 Constraint Declarations\n",
            "    constraints : Size=12, Index=constraints_index, Active=True\n",
            "        Key : Lower : Body                                                     : Upper : Active\n",
            "          1 :  -Inf : 6.5*x[0] + 8.0*x[1] + 10.5*x[2] + 11.75*x[3] + 14.5*x[4] :  78.0 :  False\n",
            "          2 :  -Inf : 5.75*x[0] + 4.5*x[1] + 3.75*x[2] + 4.85*x[3] + 3.45*x[4] :  84.0 :  False\n",
            "          3 :  -Inf : 6.5*x[0] + 8.0*x[1] + 10.5*x[2] + 11.75*x[3] + 14.5*x[4] :  76.0 :  False\n",
            "          4 :  -Inf : 5.75*x[0] + 4.5*x[1] + 3.75*x[2] + 4.85*x[3] + 3.45*x[4] :  87.0 :  False\n",
            "          5 :  -Inf : 6.5*x[0] + 8.0*x[1] + 10.5*x[2] + 11.75*x[3] + 14.5*x[4] :  74.0 :  False\n",
            "          6 :  -Inf : 5.75*x[0] + 4.5*x[1] + 3.75*x[2] + 4.85*x[3] + 3.45*x[4] :  88.0 :  False\n",
            "          7 :  -Inf : 6.5*x[0] + 8.0*x[1] + 10.5*x[2] + 11.75*x[3] + 14.5*x[4] :  72.0 :  False\n",
            "          8 :  -Inf : 5.75*x[0] + 4.5*x[1] + 3.75*x[2] + 4.85*x[3] + 3.45*x[4] :  89.0 :  False\n",
            "          9 :  -Inf : 6.5*x[0] + 8.0*x[1] + 10.5*x[2] + 11.75*x[3] + 14.5*x[4] :  70.0 :  False\n",
            "         10 :  -Inf : 5.75*x[0] + 4.5*x[1] + 3.75*x[2] + 4.85*x[3] + 3.45*x[4] :  90.0 :  False\n",
            "         11 :  -Inf : 6.5*x[0] + 8.0*x[1] + 10.5*x[2] + 11.75*x[3] + 14.5*x[4] :  68.0 :   True\n",
            "         12 :  -Inf : 5.75*x[0] + 4.5*x[1] + 3.75*x[2] + 4.85*x[3] + 3.45*x[4] :  91.0 :   True\n",
            "\n",
            "5 Declarations: x_index x objective constraints_index constraints\n"
          ]
        }
      ]
    },
    {
      "cell_type": "code",
      "source": [
        "result = opt_cbc.solve(model_lab4_ex2)\n",
        "print('Solver status:', result.solver.status)\n",
        "print('Solver termination condition:',result.solver.termination_condition)\n",
        "print('\\nObjective = ', model_lab4_ex2.objective())\n",
        "\n",
        "print('\\nDecision Variables')\n",
        "for i in col_indices:\n",
        "  print('no of drone model ',data_csvfile['Drone Model'][i], model_lab4_ex2.x[i].value)\n",
        "\n",
        "print('\\nConstraints')\n",
        "model_lab4_ex2.constraints.display()"
      ],
      "metadata": {
        "colab": {
          "base_uri": "https://localhost:8080/"
        },
        "id": "xsbmjW-pkbwH",
        "outputId": "3b56e735-220e-4ac0-f437-be1c2426fe86"
      },
      "execution_count": null,
      "outputs": [
        {
          "output_type": "stream",
          "name": "stdout",
          "text": [
            "Solver status: ok\n",
            "Solver termination condition: optimal\n",
            "\n",
            "Objective =  115.07691799999999\n",
            "\n",
            "Decision Variables\n",
            "no of drone model  SHREY 10.461538\n",
            "no of drone model  DHARAN 0.0\n",
            "no of drone model  SATVA 0.0\n",
            "no of drone model  ADHYA 0.0\n",
            "no of drone model  PRAVAT 0.0\n",
            "\n",
            "Constraints\n",
            "constraints : Size=12\n",
            "    Key : Lower : Body               : Upper\n",
            "     11 :  None :          67.999997 :  68.0\n",
            "     12 :  None : 60.153843499999994 :  91.0\n"
          ]
        }
      ]
    },
    {
      "cell_type": "markdown",
      "source": [
        "$\\Huge{solution \\ \\ of \\ \\ 2.10 \\ \\ when } \\\\   \\Huge{cost \\le68 \\ \\ and \\ \\  parking \\ space \\le91 }$ \n",
        "\n",
        "$\\huge{by \\ \\ MILP }$"
      ],
      "metadata": {
        "id": "wfjY7RpGNAIG"
      }
    },
    {
      "cell_type": "code",
      "source": [
        "model_lab4_ex2.x.domain=NonNegativeIntegers\n",
        "model_lab4_ex2.pprint()"
      ],
      "metadata": {
        "colab": {
          "base_uri": "https://localhost:8080/"
        },
        "id": "T8iTn2bOkb90",
        "outputId": "857582c5-0bda-41c1-f49c-40d6b842b968"
      },
      "execution_count": null,
      "outputs": [
        {
          "output_type": "stream",
          "name": "stdout",
          "text": [
            "2 Set Declarations\n",
            "    constraints_index : Size=1, Index=None, Ordered=Insertion\n",
            "        Key  : Dimen : Domain : Size : Members\n",
            "        None :     1 :    Any :   12 : {1, 2, 3, 4, 5, 6, 7, 8, 9, 10, 11, 12}\n",
            "    x_index : Size=1, Index=None, Ordered=Insertion\n",
            "        Key  : Dimen : Domain : Size : Members\n",
            "        None :     1 :    Any :    5 : {0, 1, 2, 3, 4}\n",
            "\n",
            "1 Var Declarations\n",
            "    x : Size=5, Index=x_index\n",
            "        Key : Lower : Value     : Upper : Fixed : Stale : Domain\n",
            "          0 :     0 : 10.461538 :  None : False : False : NonNegativeIntegers\n",
            "          1 :     0 :       0.0 :  None : False : False : NonNegativeIntegers\n",
            "          2 :     0 :       0.0 :  None : False : False : NonNegativeIntegers\n",
            "          3 :     0 :       0.0 :  None : False : False : NonNegativeIntegers\n",
            "          4 :     0 :       0.0 :  None : False : False : NonNegativeIntegers\n",
            "\n",
            "1 Objective Declarations\n",
            "    objective : Size=1, Index=None, Active=True\n",
            "        Key  : Active : Sense    : Expression\n",
            "        None :   True : maximize : 11*x[0] + 13*x[1] + 9*x[2] + 15*x[3] + 12*x[4]\n",
            "\n",
            "1 Constraint Declarations\n",
            "    constraints : Size=12, Index=constraints_index, Active=True\n",
            "        Key : Lower : Body                                                     : Upper : Active\n",
            "          1 :  -Inf : 6.5*x[0] + 8.0*x[1] + 10.5*x[2] + 11.75*x[3] + 14.5*x[4] :  78.0 :  False\n",
            "          2 :  -Inf : 5.75*x[0] + 4.5*x[1] + 3.75*x[2] + 4.85*x[3] + 3.45*x[4] :  84.0 :  False\n",
            "          3 :  -Inf : 6.5*x[0] + 8.0*x[1] + 10.5*x[2] + 11.75*x[3] + 14.5*x[4] :  76.0 :  False\n",
            "          4 :  -Inf : 5.75*x[0] + 4.5*x[1] + 3.75*x[2] + 4.85*x[3] + 3.45*x[4] :  87.0 :  False\n",
            "          5 :  -Inf : 6.5*x[0] + 8.0*x[1] + 10.5*x[2] + 11.75*x[3] + 14.5*x[4] :  74.0 :  False\n",
            "          6 :  -Inf : 5.75*x[0] + 4.5*x[1] + 3.75*x[2] + 4.85*x[3] + 3.45*x[4] :  88.0 :  False\n",
            "          7 :  -Inf : 6.5*x[0] + 8.0*x[1] + 10.5*x[2] + 11.75*x[3] + 14.5*x[4] :  72.0 :  False\n",
            "          8 :  -Inf : 5.75*x[0] + 4.5*x[1] + 3.75*x[2] + 4.85*x[3] + 3.45*x[4] :  89.0 :  False\n",
            "          9 :  -Inf : 6.5*x[0] + 8.0*x[1] + 10.5*x[2] + 11.75*x[3] + 14.5*x[4] :  70.0 :  False\n",
            "         10 :  -Inf : 5.75*x[0] + 4.5*x[1] + 3.75*x[2] + 4.85*x[3] + 3.45*x[4] :  90.0 :  False\n",
            "         11 :  -Inf : 6.5*x[0] + 8.0*x[1] + 10.5*x[2] + 11.75*x[3] + 14.5*x[4] :  68.0 :   True\n",
            "         12 :  -Inf : 5.75*x[0] + 4.5*x[1] + 3.75*x[2] + 4.85*x[3] + 3.45*x[4] :  91.0 :   True\n",
            "\n",
            "5 Declarations: x_index x objective constraints_index constraints\n"
          ]
        }
      ]
    },
    {
      "cell_type": "code",
      "source": [
        "result = opt_cbc.solve(model_lab4_ex2)\n",
        "print('Solver status:', result.solver.status)\n",
        "print('Solver termination condition:',result.solver.termination_condition)\n",
        "print('\\nObjective = ', model_lab4_ex2.objective())\n",
        "\n",
        "print('\\nDecision Variables')\n",
        "for i in col_indices:\n",
        "  print('no of drone model ',data_csvfile['Drone Model'][i], model_lab4_ex2.x[i].value)\n",
        "\n",
        "print('\\nConstraints')\n",
        "model_lab4_ex2.constraints.display()"
      ],
      "metadata": {
        "colab": {
          "base_uri": "https://localhost:8080/"
        },
        "id": "xuWdp1KOkcIz",
        "outputId": "193abd27-ff91-4df1-ff52-5eaa7025f954"
      },
      "execution_count": null,
      "outputs": [
        {
          "output_type": "stream",
          "name": "stdout",
          "text": [
            "Solver status: ok\n",
            "Solver termination condition: optimal\n",
            "\n",
            "Objective =  114.0\n",
            "\n",
            "Decision Variables\n",
            "no of drone model  SHREY 8.0\n",
            "no of drone model  DHARAN 2.0\n",
            "no of drone model  SATVA 0.0\n",
            "no of drone model  ADHYA 0.0\n",
            "no of drone model  PRAVAT 0.0\n",
            "\n",
            "Constraints\n",
            "constraints : Size=12\n",
            "    Key : Lower : Body : Upper\n",
            "     11 :  None : 68.0 :  68.0\n",
            "     12 :  None : 55.0 :  91.0\n"
          ]
        }
      ]
    },
    {
      "cell_type": "markdown",
      "source": [
        "$\\Huge{solution \\ \\ of \\ \\ 2.10 \\ \\ when } \\\\   \\Huge{cost \\le68 \\ \\ and \\ \\  parking \\ space \\le91 }$ \n",
        "\n",
        "$\\huge{by \\ \\ LP }$\n",
        "\n",
        "Objective =  115.07691799999999\n",
        "\n",
        "Decision Variables\n",
        "\n",
        "no of drone model  SHREY 10.461538\n",
        "\n",
        "no of drone model  DHARAN 0.0\n",
        "\n",
        "no of drone model  SATVA 0.0\n",
        "\n",
        "no of drone model  ADHYA 0.0\n",
        "\n",
        "no of drone model  PRAVAT 0.0\n",
        "\n",
        "$\\huge{by \\ \\ MILP}$\n",
        "\n",
        "Objective =  114.0\n",
        "\n",
        "Decision Variables\n",
        "\n",
        "no of drone model  SHREY 8.0\n",
        "\n",
        "no of drone model  DHARAN 2.0\n",
        "\n",
        "no of drone model  SATVA 0.0\n",
        "\n",
        "no of drone model  ADHYA 0.0\n",
        "\n",
        "no of drone model  PRAVAT 0.0\n",
        "\n",
        "$\\textbf{here we get different solution for MILP and LP}$\n",
        "\n",
        "because here LP solution is infeasible for our problem as number of drone model can't be float\n",
        "so, we get different solution for MILP"
      ],
      "metadata": {
        "id": "RAiRPvWoNIdz"
      }
    },
    {
      "cell_type": "markdown",
      "source": [
        "$\\huge{ we \\ \\ can \\ \\ solve \\ \\ 2.9 \\ \\ and  \\ \\ 2.10 \\ \\ by \\ \\ using \\ \\ for \\ \\  loop \\ \\  as \\ \\  follows}$   "
      ],
      "metadata": {
        "id": "lSwSPHevTzby"
      }
    },
    {
      "cell_type": "code",
      "source": [
        "a=np.arange(5)\n",
        "b=np.array([Reals,NonNegativeIntegers])"
      ],
      "metadata": {
        "id": "qAtphshy-zz8"
      },
      "execution_count": null,
      "outputs": []
    },
    {
      "cell_type": "code",
      "source": [
        "cost=np.array([76,74,72,70,68])\n",
        "parking=np.array([87,88,89,90,91])"
      ],
      "metadata": {
        "id": "x2jtl7-0_AD7"
      },
      "execution_count": null,
      "outputs": []
    },
    {
      "cell_type": "code",
      "source": [
        "for j in range(2):\n",
        "  for i in range(5):\n",
        "    model_lab4_ex2.constraints.add(summation(data_csvfile['Cost (in Crores of rupees)'],model_lab4_ex2.x) <= cost[i])\n",
        "    model_lab4_ex2.constraints.add(summation(data_csvfile['Parking space (sq. m.)'],model_lab4_ex2.x) <= parking[i])\n",
        "    model_lab4_ex2.constraints[2*i+10*j+11].deactivate()\n",
        "    model_lab4_ex2.constraints[2*i+10*j+12].deactivate()\n",
        "    model_lab4_ex2.x.domain=b[j]\n",
        "    result = opt_cbc.solve(model_lab4_ex2)\n",
        "    print('\\n\\n\\n\\n\\n\\n\\n\\n\\nsolution of model',i+1+5*j)\n",
        "    print('Solver status:', result.solver.status)\n",
        "    print('Solver termination condition:',result.solver.termination_condition)\n",
        "    print('\\nObjective = ', model_lab4_ex2.objective())\n",
        "    for k in col_indices:\n",
        "      print('no of drone model ',data_csvfile['Drone Model'][k], model_lab4_ex2.x[k].value)\n",
        "    print('\\nConstraints')\n",
        "    model_lab4_ex2.constraints.display()\n",
        "    \n"
      ],
      "metadata": {
        "colab": {
          "base_uri": "https://localhost:8080/"
        },
        "id": "BKI8_3VVAFHy",
        "outputId": "e12cb03e-2657-44c1-b3de-4a132a7138ac"
      },
      "execution_count": null,
      "outputs": [
        {
          "output_type": "stream",
          "name": "stdout",
          "text": [
            "\n",
            "\n",
            "\n",
            "\n",
            "\n",
            "\n",
            "\n",
            "\n",
            "\n",
            "solution of model 1\n",
            "Solver status: ok\n",
            "Solver termination condition: optimal\n",
            "\n",
            "Objective =  128.615388\n",
            "no of drone model  SHREY 11.692308\n",
            "no of drone model  DHARAN 0.0\n",
            "no of drone model  SATVA 0.0\n",
            "no of drone model  ADHYA 0.0\n",
            "no of drone model  PRAVAT 0.0\n",
            "\n",
            "Constraints\n",
            "constraints : Size=14\n",
            "    Key : Lower : Body              : Upper\n",
            "     13 :  None : 76.00000200000001 :  76.0\n",
            "     14 :  None :         67.230771 :  87.0\n",
            "\n",
            "\n",
            "\n",
            "\n",
            "\n",
            "\n",
            "\n",
            "\n",
            "\n",
            "solution of model 2\n",
            "Solver status: ok\n",
            "Solver termination condition: optimal\n",
            "\n",
            "Objective =  125.230765\n",
            "no of drone model  SHREY 11.384615\n",
            "no of drone model  DHARAN 0.0\n",
            "no of drone model  SATVA 0.0\n",
            "no of drone model  ADHYA 0.0\n",
            "no of drone model  PRAVAT 0.0\n",
            "\n",
            "Constraints\n",
            "constraints : Size=16\n",
            "    Key : Lower : Body        : Upper\n",
            "     15 :  None :  73.9999975 :  74.0\n",
            "     16 :  None : 65.46153625 :  88.0\n",
            "\n",
            "\n",
            "\n",
            "\n",
            "\n",
            "\n",
            "\n",
            "\n",
            "\n",
            "solution of model 3\n",
            "Solver status: ok\n",
            "Solver termination condition: optimal\n",
            "\n",
            "Objective =  121.84615300000002\n",
            "no of drone model  SHREY 11.076923\n",
            "no of drone model  DHARAN 0.0\n",
            "no of drone model  SATVA 0.0\n",
            "no of drone model  ADHYA 0.0\n",
            "no of drone model  PRAVAT 0.0\n",
            "\n",
            "Constraints\n",
            "constraints : Size=18\n",
            "    Key : Lower : Body               : Upper\n",
            "     17 :  None :         71.9999995 :  72.0\n",
            "     18 :  None : 63.692307250000006 :  89.0\n",
            "\n",
            "\n",
            "\n",
            "\n",
            "\n",
            "\n",
            "\n",
            "\n",
            "\n",
            "solution of model 4\n",
            "Solver status: ok\n",
            "Solver termination condition: optimal\n",
            "\n",
            "Objective =  118.461541\n",
            "no of drone model  SHREY 10.769231\n",
            "no of drone model  DHARAN 0.0\n",
            "no of drone model  SATVA 0.0\n",
            "no of drone model  ADHYA 0.0\n",
            "no of drone model  PRAVAT 0.0\n",
            "\n",
            "Constraints\n",
            "constraints : Size=20\n",
            "    Key : Lower : Body               : Upper\n",
            "     19 :  None :         70.0000015 :  70.0\n",
            "     20 :  None : 61.923078249999996 :  90.0\n",
            "\n",
            "\n",
            "\n",
            "\n",
            "\n",
            "\n",
            "\n",
            "\n",
            "\n",
            "solution of model 5\n",
            "Solver status: ok\n",
            "Solver termination condition: optimal\n",
            "\n",
            "Objective =  115.07691799999999\n",
            "no of drone model  SHREY 10.461538\n",
            "no of drone model  DHARAN 0.0\n",
            "no of drone model  SATVA 0.0\n",
            "no of drone model  ADHYA 0.0\n",
            "no of drone model  PRAVAT 0.0\n",
            "\n",
            "Constraints\n",
            "constraints : Size=22\n",
            "    Key : Lower : Body               : Upper\n",
            "     21 :  None :          67.999997 :  68.0\n",
            "     22 :  None : 60.153843499999994 :  91.0\n",
            "\n",
            "\n",
            "\n",
            "\n",
            "\n",
            "\n",
            "\n",
            "\n",
            "\n",
            "solution of model 6\n",
            "Solver status: ok\n",
            "Solver termination condition: optimal\n",
            "\n",
            "Objective =  127.0\n",
            "no of drone model  SHREY 8.0\n",
            "no of drone model  DHARAN 3.0\n",
            "no of drone model  SATVA 0.0\n",
            "no of drone model  ADHYA 0.0\n",
            "no of drone model  PRAVAT 0.0\n",
            "\n",
            "Constraints\n",
            "constraints : Size=24\n",
            "    Key : Lower : Body : Upper\n",
            "     23 :  None : 76.0 :  76.0\n",
            "     24 :  None : 59.5 :  87.0\n",
            "\n",
            "\n",
            "\n",
            "\n",
            "\n",
            "\n",
            "\n",
            "\n",
            "\n",
            "solution of model 7\n",
            "Solver status: ok\n",
            "Solver termination condition: optimal\n",
            "\n",
            "Objective =  123.0\n",
            "no of drone model  SHREY 10.0\n",
            "no of drone model  DHARAN 1.0\n",
            "no of drone model  SATVA 0.0\n",
            "no of drone model  ADHYA 0.0\n",
            "no of drone model  PRAVAT 0.0\n",
            "\n",
            "Constraints\n",
            "constraints : Size=26\n",
            "    Key : Lower : Body : Upper\n",
            "     25 :  None : 73.0 :  74.0\n",
            "     26 :  None : 62.0 :  88.0\n",
            "\n",
            "\n",
            "\n",
            "\n",
            "\n",
            "\n",
            "\n",
            "\n",
            "\n",
            "solution of model 8\n",
            "Solver status: ok\n",
            "Solver termination condition: optimal\n",
            "\n",
            "Objective =  121.0\n",
            "no of drone model  SHREY 11.0\n",
            "no of drone model  DHARAN 0.0\n",
            "no of drone model  SATVA 0.0\n",
            "no of drone model  ADHYA 0.0\n",
            "no of drone model  PRAVAT 0.0\n",
            "\n",
            "Constraints\n",
            "constraints : Size=28\n",
            "    Key : Lower : Body  : Upper\n",
            "     27 :  None :  71.5 :  72.0\n",
            "     28 :  None : 63.25 :  89.0\n",
            "\n",
            "\n",
            "\n",
            "\n",
            "\n",
            "\n",
            "\n",
            "\n",
            "\n",
            "solution of model 9\n",
            "Solver status: ok\n",
            "Solver termination condition: optimal\n",
            "\n",
            "Objective =  116.0\n",
            "no of drone model  SHREY 7.0\n",
            "no of drone model  DHARAN 3.0\n",
            "no of drone model  SATVA 0.0\n",
            "no of drone model  ADHYA 0.0\n",
            "no of drone model  PRAVAT 0.0\n",
            "\n",
            "Constraints\n",
            "constraints : Size=30\n",
            "    Key : Lower : Body  : Upper\n",
            "     29 :  None :  69.5 :  70.0\n",
            "     30 :  None : 53.75 :  90.0\n",
            "\n",
            "\n",
            "\n",
            "\n",
            "\n",
            "\n",
            "\n",
            "\n",
            "\n",
            "solution of model 10\n",
            "Solver status: ok\n",
            "Solver termination condition: optimal\n",
            "\n",
            "Objective =  114.0\n",
            "no of drone model  SHREY 8.0\n",
            "no of drone model  DHARAN 2.0\n",
            "no of drone model  SATVA 0.0\n",
            "no of drone model  ADHYA 0.0\n",
            "no of drone model  PRAVAT 0.0\n",
            "\n",
            "Constraints\n",
            "constraints : Size=32\n",
            "    Key : Lower : Body : Upper\n",
            "     31 :  None : 68.0 :  68.0\n",
            "     32 :  None : 55.0 :  91.0\n"
          ]
        }
      ]
    },
    {
      "cell_type": "markdown",
      "source": [
        "$\\Huge{ 2.10}$\n",
        "\n",
        "$\\Huge{pattern}$\n",
        "\n",
        "optimal solution of MILP IS always less than optimal solution of LP\n",
        "\n",
        "$\\huge{observation}$\n",
        "\n",
        "If the optimal solution of the LP relaxation is feasible for the original MILP, then it is\n",
        "optimal also for the original problem\n",
        "\n",
        "If the optimal solution of the LP relaxation is not feasible for the original MILP, then it is not\n",
        "optimal for the original problem \n",
        "in this case optimal solution of MILP IS always less than optimal solution of LP  "
      ],
      "metadata": {
        "id": "Mi3ykW_oUfoF"
      }
    }
  ]
}